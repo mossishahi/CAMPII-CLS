{
 "cells": [
  {
   "cell_type": "markdown",
   "metadata": {
    "id": "lStpei-kK9Ev"
   },
   "source": [
    "# CAMP II Surgical Workflow Analysis Exercise\n",
    "\n",
    "It is highly recommended to complete the CAMP II Exercises on Classification and Segmentation before this one!  \n",
    "Feel free to reuse code you wrote for these other exercises here, it might be useful. Make sure to activate the GPU in colab before you start this exercise.\n",
    "\n",
    "In this exercise, we will be making first steps towards workflow analysis from endoscopic data. Specifically, we will be extracting the surgical phases, such as \"Preparation\" or \"ColotTriangleDissection\". \n",
    "\n",
    "We will be working with an extended version of the dataset used in the exercise classification and segmentation. The extension allows us to observe the full workflow steps in every video.\n",
    "\n",
    "This notebook has many codeblocks already in place to help you get started. Places where you have to add your own code are clearly marked with \"TASK\" and lines (\"-----\"). When a variable you have to implement is used later on, we placed a name and description in the task bracket (see example below). These markings are only there to guide you toward what you have to implement to complete the exercise, feel free to experiment beyond them.\n",
    "\n",
    "\n",
    "\n",
    "\n"
   ]
  },
  {
   "cell_type": "code",
   "execution_count": 1,
   "metadata": {
    "id": "9xiI2LeWncRs"
   },
   "outputs": [],
   "source": [
    "# TASK: description of the task you need to do ---------------------------------\n",
    "# my_variable_name: a variable that is used later on, so the name should be right\n",
    "\n",
    "# ------------------------------------------------------------------------------"
   ]
  },
  {
   "cell_type": "markdown",
   "metadata": {
    "id": "UhcBSq8_ndNI"
   },
   "source": [
    "When looking for solutions to the tasks below, definitely consider online resources such as the ones linked below:\n",
    "\n",
    "Pytorch (torch) documentation: <br>\n",
    "https://pytorch.org/docs/stable/index.html\n",
    "\n",
    "Pytorch Vision (torchvision) documentation: <br>\n",
    "https://pytorch.org/vision/stable/index.html"
   ]
  },
  {
   "cell_type": "code",
   "execution_count": 5,
   "metadata": {
    "id": "gpfxHfdbLM_Q"
   },
   "outputs": [
    {
     "name": "stdout",
     "output_type": "stream",
     "text": [
      "Downloading...\n",
      "From: https://drive.google.com/uc?id=1MwtcHceqj8FchmsIR92pRb0tR-QZ9uh4\n",
      "To: /mnt/home/icb/mostafa.shahhosseini/liver_endoscopy_dataset_workflow.zip\n",
      "100%|███████████████████████████████████████| 2.82G/2.82G [00:23<00:00, 117MB/s]\n"
     ]
    }
   ],
   "source": [
    "# download the dataset to your notebook\n",
    "# if you get access denied, retry after a minute\n",
    "!gdown 1MwtcHceqj8FchmsIR92pRb0tR-QZ9uh4\n",
    "!unzip -qq liver_endoscopy_dataset_workflow.zip \n",
    "!rm liver_endoscopy_dataset_workflow.zip\n",
    "# this block should take 1 min"
   ]
  },
  {
   "cell_type": "code",
   "execution_count": null,
   "metadata": {
    "id": "rc-EIaiB_ofh"
   },
   "outputs": [],
   "source": [
    "!pip -qq install pytorch_lightning==1.6.2"
   ]
  },
  {
   "cell_type": "markdown",
   "metadata": {
    "id": "kh1dtsCPSYvM"
   },
   "source": [
    "We import the libraries that will be useful"
   ]
  },
  {
   "cell_type": "code",
   "execution_count": 120,
   "metadata": {
    "id": "wUZPkdE2K9Ey"
   },
   "outputs": [],
   "source": [
    "import json\n",
    "import random\n",
    "from collections import defaultdict\n",
    "from pathlib import Path\n",
    "from typing import Optional\n",
    "\n",
    "import pytorch_lightning as pl\n",
    "import torch\n",
    "import torch.nn.functional as F\n",
    "import torchvision\n",
    "from PIL import Image\n",
    "from sklearn.metrics import classification_report\n",
    "from torch import nn\n",
    "from torch.utils.data import Dataset, DataLoader\n",
    "from torchvision import transforms\n",
    "from tqdm import tqdm\n",
    "from tqdm import tqdm_notebook\n",
    "\n",
    "import numpy as np\n",
    "import matplotlib.pyplot as plt\n",
    "import seaborn as sns\n",
    "from matplotlib.colors import BoundaryNorm, ListedColormap"
   ]
  },
  {
   "cell_type": "markdown",
   "metadata": {
    "id": "PD7MIt9sY3VD"
   },
   "source": [
    "## 0. Dataset\n",
    "We load the liver endoscopy dataset here. This cell defines the video splits, correctly loads the dataset depending on the task."
   ]
  },
  {
   "cell_type": "code",
   "execution_count": 7,
   "metadata": {
    "id": "DuE42kWXYvqe"
   },
   "outputs": [],
   "source": [
    "video_splits = {'train': ['01', '02', '05', '13', '15', '18', '22'], 'val': ['08', '29', '50'], 'test': ['06', '10', '42']}\n",
    "\n",
    "\n",
    "class LiverEndoscopy(Dataset):\n",
    "    def __init__(self, split: str = 'train', balance_data: bool = False, temporal: bool = False,\n",
    "                 pil_transform: Optional[transforms.Compose] = None, tensor_transform: Optional[transforms.Compose] = None, augmentation=None):\n",
    "        assert split in ['train', 'val', 'test']\n",
    "        self.split = split\n",
    "        self.balance_data = balance_data\n",
    "        self.temporal = temporal\n",
    "        self.pil_transform = pil_transform\n",
    "        self.tensor_transform = tensor_transform\n",
    "        self.augmentation = augmentation\n",
    "\n",
    "        self.phases_to_indices = {'Preparation': 0, 'CalotTriangleDissection': 1, 'ClippingCutting': 2, 'GallbladderDissection': 3, 'GallbladderPackaging': 4,\n",
    "                                  'CleaningCoagulation': 5, 'GallbladderRetraction': 6}\n",
    "        self.indices_to_phases = {value: key for key, value in self.phases_to_indices.items()}\n",
    "\n",
    "        export_dataset_path = Path('data_workflow')\n",
    "        self.images_path = export_dataset_path / 'images'\n",
    "        with open(export_dataset_path / 'phase_annotations.json', 'r') as f:\n",
    "            self.workflow_phase_annotations = json.load(f)\n",
    "\n",
    "        if not temporal:\n",
    "            self.image_names = []\n",
    "            for image_path in sorted(self.images_path.glob('*.png')):\n",
    "                video_id = image_path.name.split('_')[0].replace('video', '')\n",
    "                if video_id in video_splits[split]:\n",
    "                    self.image_names.append(image_path.name.replace('.png', ''))\n",
    "            self.image_names = sorted(self.image_names)\n",
    "\n",
    "        else:\n",
    "            self.window_size = 8\n",
    "            self.downsample_factor = 25\n",
    "            all_image_names = sorted(self.images_path.glob('*.png'))\n",
    "            all_video_ids = {image_name.name.split('_')[0].replace('video', '') for image_name in all_image_names}\n",
    "            all_split_video_ids = {video_id for video_id in all_video_ids if video_id in video_splits[split]}\n",
    "            self.windows = []\n",
    "            for video_id in all_split_video_ids:\n",
    "                sequence_images = sorted(self.images_path.glob(f'video{video_id}_*.png'))\n",
    "                sequence_image_indices = [int(image_name.name.split('_')[1].replace('.png', '')) for image_name in sequence_images]\n",
    "                for i in range(len(sequence_images) - self.window_size + 1):\n",
    "                    self.windows.append((video_id, sequence_image_indices[i:i + self.window_size]))\n",
    "\n",
    "        if balance_data:\n",
    "            self.do_balance_data(temporal)\n",
    "\n",
    "    def do_balance_data(self, temporal):\n",
    "        print('Balancing data by oversampling under-represented classes...')\n",
    "        class_to_samples = defaultdict(list)\n",
    "        if not temporal:\n",
    "            for image_name in self.image_names:\n",
    "                label = self.workflow_phase_annotations[image_name]\n",
    "                class_to_samples[label].append(image_name)\n",
    "            max_number = max([len(elem) for elem in class_to_samples.values()])\n",
    "            self.image_names = []\n",
    "            for key, value in class_to_samples.items():\n",
    "                if len(value) < max_number:\n",
    "                    self.image_names += random.choices(value, k=max_number)\n",
    "                else:\n",
    "                    self.image_names += value\n",
    "            random.shuffle(self.image_names)\n",
    "        else:\n",
    "            for video_id, window in self.windows:\n",
    "                label = self.workflow_phase_annotations[f'video{video_id}_{str(window[-1]).zfill(6)}']\n",
    "                class_to_samples[label].append((video_id, window))\n",
    "            max_number = max([len(elem) for elem in class_to_samples.values()])\n",
    "            self.windows = []\n",
    "            for key, value in class_to_samples.items():\n",
    "                if len(value) < max_number:\n",
    "                    self.windows += random.choices(value, k=max_number)\n",
    "                else:\n",
    "                    self.windows += value\n",
    "            random.shuffle(self.windows)\n",
    "\n",
    "    def __len__(self):\n",
    "        if self.temporal:\n",
    "            return len(self.windows)\n",
    "        else:\n",
    "            return len(self.image_names)\n",
    "\n",
    "    def phase_label_to_number(self, phase_label):\n",
    "        return self.phases_to_indices[phase_label]\n",
    "\n",
    "    def number_to_phase_label(self, phase_number):\n",
    "        return self.indices_to_phases[phase_number]\n",
    "\n",
    "    def __getitem__(self, index):\n",
    "        if self.temporal:\n",
    "            video_id, window = self.windows[index]\n",
    "            image_names = []\n",
    "            for frame_number in window:\n",
    "                image_names.append(f'video{video_id}_{str(frame_number).zfill(6)}.png')\n",
    "\n",
    "            phase = self.phase_label_to_number(self.workflow_phase_annotations[image_names[-1].replace('.png', '')])\n",
    "            return {'image_names': image_names, 'phase': phase}\n",
    "        else:\n",
    "            image_name = self.image_names[index]\n",
    "            image_path = self.images_path / f'{image_name}.png'\n",
    "            image = Image.open(image_path)\n",
    "            if self.pil_transform is not None:\n",
    "                image = self.pil_transform(image)\n",
    "            if self.augmentation is not None:\n",
    "                image = self.augmentation(image)\n",
    "            image_tensor = transforms.ToTensor()(image)\n",
    "            if self.tensor_transform is not None:\n",
    "                image_tensor = self.tensor_transform(image_tensor)\n",
    "\n",
    "            phase = self.phase_label_to_number(self.workflow_phase_annotations[image_name])\n",
    "\n",
    "            return {'image': image_tensor, 'phase': phase, 'image_name': image_name}\n"
   ]
  },
  {
   "cell_type": "markdown",
   "metadata": {
    "id": "1JtaPQcHK9E1"
   },
   "source": [
    "## A. Workflow Recognition without Temporal Modelling\n",
    "\n",
    "First, we will try to recognize the different phases of the surgical workflow from each frame of the video. This is equivalent to a multi-class classification problem on each frame."
   ]
  },
  {
   "cell_type": "markdown",
   "metadata": {
    "id": "HMLQv8C9K9E2"
   },
   "source": [
    "### A.1 Load the data as images with phase labels\n"
   ]
  },
  {
   "cell_type": "code",
   "execution_count": 8,
   "metadata": {
    "id": "Ik5O-agaK9E2"
   },
   "outputs": [
    {
     "name": "stderr",
     "output_type": "stream",
     "text": [
      "Global seed set to 42\n"
     ]
    }
   ],
   "source": [
    "# Fix pytorch_lightning seed\n",
    "pl.seed_everything(42)\n",
    "\n",
    "# load data\n",
    "pil_transform = transforms.Compose([transforms.Resize((224, 224))])\n",
    "augmentation = transforms.Compose([transforms.RandomHorizontalFlip(),\n",
    "                                    transforms.ColorJitter(brightness=.1, hue=.1),\n",
    "                                    transforms.RandomRotation(degrees=(0, 30)),\n",
    "                                    transforms.RandomResizedCrop((224, 224), scale=(0.7, 1.0))])\n",
    "\n",
    "train_dataset = LiverEndoscopy(split='train', balance_data=False, temporal=False, pil_transform=None, augmentation=augmentation)\n",
    "val_dataset = LiverEndoscopy(split='val', balance_data=False, temporal=False, pil_transform=pil_transform)\n",
    "test_dataset = LiverEndoscopy(split='test', balance_data=False, temporal=False, pil_transform=pil_transform)\n",
    "train_loader = DataLoader(train_dataset, batch_size=32, shuffle=True, num_workers=2)\n",
    "val_loader = DataLoader(val_dataset, batch_size=32, shuffle=False, num_workers=2)\n",
    "test_loader = DataLoader(test_dataset, batch_size=32, shuffle=False, num_workers=2)"
   ]
  },
  {
   "cell_type": "markdown",
   "metadata": {
    "id": "wDr7OJplTsRj"
   },
   "source": [
    "#### Explore the data"
   ]
  },
  {
   "cell_type": "code",
   "execution_count": 22,
   "metadata": {
    "id": "oSW_JQV37s1R"
   },
   "outputs": [],
   "source": [
    "# TASK: Load a random sample from the dataset, visualize the image and its phase label\n",
    "x,y, z = next(iter(train_dataset\n",
    "))\n",
    "# ------------------------------------------------------------------------------"
   ]
  },
  {
   "cell_type": "markdown",
   "metadata": {
    "id": "_9yDvucLK9E3"
   },
   "source": [
    "### A.2 Load and train a workflow recognition model\n",
    "We already provide most of the code skeleton in this part. To finish this model, you will need to make the following modifications.\n",
    "1. An image processing model (resnet18, pretrained=True), which you can find in torchvision.\n",
    "2. Disable the final layer (fc) of the image model\n",
    "3. Define a new linear layer, that takes as input the output of the image model, and outputs 7 nodes. These will correspond to the 7 classes.\n",
    "4. Define the forward function, which uses the image model and the linear layer\n",
    "5. Complete the training, validation and test steps, where the models forward function is called to get a prediction, and then a cross entropy loss between the correct phase and the prediction is computed. Tip: F.cross_entropy()\n"
   ]
  },
  {
   "cell_type": "code",
   "execution_count": 85,
   "metadata": {
    "id": "Okdpj4LmK9E4"
   },
   "outputs": [],
   "source": [
    "class ModelWrapper(pl.LightningModule):\n",
    "    def __init__(self):\n",
    "        super().__init__()\n",
    "        # TASK: define image model, disable final layer, add linear layer ------\n",
    "\n",
    "        self.image_backbone = torchvision.models.resnet18(pretrained = True)\n",
    "        #######################################\n",
    "        # To be filled\n",
    "        #\n",
    "        # disable the last layer, redefine it to match the number of classes\n",
    "        #######################################\n",
    "        self.image_backbone.fc = nn.Identity()\n",
    "        self.linear = nn.Linear(512, 7)\n",
    "\n",
    "        # ----------------------------------------------------------------------       \n",
    "\n",
    "        self.loss = nn.CrossEntropyLoss()\n",
    "        self.train_preds = []\n",
    "        self.train_gts = []\n",
    "        self.val_preds = []\n",
    "        self.val_gts = []\n",
    "        self.test_preds = []\n",
    "        self.test_gts = []\n",
    "        self.reset_metrics()\n",
    "\n",
    "        self.train_loss = []\n",
    "        self.val_loss = []\n",
    "        self.test_loss = []\n",
    "\n",
    "        self.phase_names = ['Preparation', 'ColotTriangleDissection', 'ClippingCutting', 'GallbladderDissection', 'GallbladderPackaging', 'CleaningCoagulation',\n",
    "                            'GallbladderRetraction']\n",
    "\n",
    "    def forward(self, x):\n",
    "        #TASK use the image model and linear layer to get a prediction ---------\n",
    "        x = self.image_backbone(x)\n",
    "        x = self.linear(x)\n",
    "        # ----------------------------------------------------------------------\n",
    "        return x\n",
    "\n",
    "    def training_step(self, batch, batch_idx):\n",
    "        x = batch[\"image\"]\n",
    "        y = batch[\"phase\"]\n",
    "        y_hat = self.forward(x)\n",
    "        loss = self.loss(y_hat, y)\n",
    "        # training_step defines the train loop.\n",
    "        # TASK: get a prediction from the model and calculate cross_entropy loss.\n",
    "        # y_hat: prediction from the model\n",
    "        # loss: calculated loss from the model\n",
    "\n",
    "        # ----------------------------------------------------------------------       \n",
    "        self.update_metrics(batch['phase'], y_hat, split='train')\n",
    "        self.train_loss.append(loss.item())\n",
    "        return {'loss': loss}\n",
    "\n",
    "    def validation_step(self, batch, batch_idx):\n",
    "        # validation_step defines the validation loop.\n",
    "        # TASK: get a prediction from the model and calculate cross_entropy loss.\n",
    "        # y_hat: prediction from the model\n",
    "        # loss: calculated loss from the model\n",
    "        x = batch[\"image\"]\n",
    "        y = batch[\"phase\"]\n",
    "        y_hat = self.forward(x)\n",
    "        loss = self.loss(y_hat, y)\n",
    "\n",
    "        # ----------------------------------------------------------------------\n",
    "        self.update_metrics(batch['phase'], y_hat, split='val')\n",
    "        self.val_loss.append(loss.item())\n",
    "        return {'val_loss': loss}\n",
    "\n",
    "    def test_step(self, batch, batch_idx):\n",
    "        # test_step defines the test loop.\n",
    "        # TASK: get a prediction from the model and calculate cross_entropy loss.\n",
    "        # y_hat: prediction from the model\n",
    "        # loss: calculated loss from the model\n",
    "        x = batch[\"image\"]\n",
    "        y = batch[\"phase\"]\n",
    "        y_hat = self.forward(x)\n",
    "        loss = self.loss(y_hat, y)\n",
    "\n",
    "        # ----------------------------------------------------------------------\n",
    "        self.update_metrics(batch['phase'], y_hat, split='test')\n",
    "        self.test_loss.append(loss.item())\n",
    "        return {'test_loss': loss}\n",
    "\n",
    "    def configure_optimizers(self):\n",
    "        optimizer = torch.optim.Adam(self.parameters(), lr=1e-5, weight_decay=1e-6)\n",
    "        return optimizer\n",
    "\n",
    "    def reset_metrics(self, split=None):\n",
    "        if split == 'train':\n",
    "            self.train_preds = []\n",
    "            self.train_gts = []\n",
    "        elif split == 'val':\n",
    "            self.val_preds = []\n",
    "            self.val_gts = []\n",
    "        elif split == 'test':\n",
    "            self.test_preds = []\n",
    "            self.test_gts = []\n",
    "        else:\n",
    "            self.train_preds = []\n",
    "            self.train_gts = []\n",
    "            self.val_preds = []\n",
    "            self.val_gts = []\n",
    "            self.test_preds = []\n",
    "            self.test_gts = []\n",
    "\n",
    "    def update_metrics(self, gt, pred, split='train'):\n",
    "        if split == 'train':\n",
    "            self.train_preds.extend(pred.detach().cpu().numpy().argmax(1))\n",
    "            self.train_gts.extend(gt.detach().cpu().numpy())\n",
    "        elif split == 'val':\n",
    "            self.val_preds.extend(pred.detach().cpu().numpy().argmax(1))\n",
    "            self.val_gts.extend(gt.detach().cpu().numpy())\n",
    "        elif split == 'test':\n",
    "            self.test_preds.extend(pred.detach().cpu().numpy().argmax(1))\n",
    "            self.test_gts.extend(gt.detach().cpu().numpy())\n",
    "        else:\n",
    "            raise NotImplementedError()\n",
    "\n",
    "    def training_epoch_end(self, outputs):\n",
    "        self.evaluate_predictions(split='train')\n",
    "        self.reset_metrics(split='train')\n",
    "\n",
    "    def validation_epoch_end(self, outputs):\n",
    "        self.evaluate_predictions(split='val')\n",
    "        self.reset_metrics(split='val')\n",
    "    \n",
    "    def test_epoch_end(self, outputs):\n",
    "        self.evaluate_predictions(split='test')\n",
    "        # self.reset_metrics(split='test')\n",
    "\n",
    "    def evaluate_predictions(self, split):\n",
    "        if split == 'train':\n",
    "            preds = self.train_preds\n",
    "            gts = self.train_gts\n",
    "        elif split == 'val':\n",
    "            preds = self.val_preds\n",
    "            gts = self.val_gts\n",
    "        elif split == 'test':\n",
    "            preds = self.test_preds\n",
    "            gts = self.test_gts\n",
    "        else:\n",
    "            raise NotImplementedError()\n",
    "\n",
    "        cls_report = classification_report(gts, preds, labels=list(range(len(self.phase_names))),\n",
    "                                           target_names=self.phase_names)\n",
    "        print(split)\n",
    "        print(cls_report)"
   ]
  },
  {
   "cell_type": "markdown",
   "metadata": {
    "id": "bI4Ow32GVMDv"
   },
   "source": [
    "#### Create the model"
   ]
  },
  {
   "cell_type": "code",
   "execution_count": 86,
   "metadata": {
    "id": "2fPcebr62B6f"
   },
   "outputs": [],
   "source": [
    "# TASK: create the model -------------------------------------------------------\n",
    "# model: your model\n",
    "model = ModelWrapper()\n",
    "\n",
    "# ------------------------------------------------------------------------------"
   ]
  },
  {
   "cell_type": "markdown",
   "metadata": {
    "id": "pZHA73roTyzE"
   },
   "source": [
    "#### Train the model"
   ]
  },
  {
   "cell_type": "code",
   "execution_count": 87,
   "metadata": {
    "id": "Ef26-VL_CCNy"
   },
   "outputs": [
    {
     "name": "stderr",
     "output_type": "stream",
     "text": [
      "GPU available: True, used: True\n",
      "TPU available: False, using: 0 TPU cores\n",
      "IPU available: False, using: 0 IPUs\n",
      "HPU available: False, using: 0 HPUs\n",
      "/home/icb/mostafa.shahhosseini/miniconda3/envs/mossi/lib/python3.7/site-packages/pytorch_lightning/callbacks/model_checkpoint.py:611: UserWarning: Checkpoint directory /mnt/home/icb/mostafa.shahhosseini/lightning_logs/version_8190916/checkpoints exists and is not empty.\n",
      "  rank_zero_warn(f\"Checkpoint directory {dirpath} exists and is not empty.\")\n",
      "LOCAL_RANK: 0 - CUDA_VISIBLE_DEVICES: [0]\n",
      "\n",
      "  | Name           | Type             | Params\n",
      "----------------------------------------------------\n",
      "0 | image_backbone | ResNet           | 11.2 M\n",
      "1 | linear         | Linear           | 3.6 K \n",
      "2 | loss           | CrossEntropyLoss | 0     \n",
      "----------------------------------------------------\n",
      "11.2 M    Trainable params\n",
      "0         Non-trainable params\n",
      "11.2 M    Total params\n",
      "44.720    Total estimated model params size (MB)\n"
     ]
    },
    {
     "data": {
      "application/vnd.jupyter.widget-view+json": {
       "model_id": "c6e03d4f6d204d508c76143132aa2334",
       "version_major": 2,
       "version_minor": 0
      },
      "text/plain": [
       "Sanity Checking: 0it [00:00, ?it/s]"
      ]
     },
     "metadata": {},
     "output_type": "display_data"
    },
    {
     "name": "stderr",
     "output_type": "stream",
     "text": [
      "/home/icb/mostafa.shahhosseini/miniconda3/envs/mossi/lib/python3.7/site-packages/pytorch_lightning/trainer/connectors/data_connector.py:245: PossibleUserWarning: The dataloader, val_dataloader 0, does not have many workers which may be a bottleneck. Consider increasing the value of the `num_workers` argument` (try 112 which is the number of cpus on this machine) in the `DataLoader` init to improve performance.\n",
      "  category=PossibleUserWarning,\n"
     ]
    },
    {
     "name": "stdout",
     "output_type": "stream",
     "text": [
      "val\n",
      "                         precision    recall  f1-score   support\n",
      "\n",
      "            Preparation       1.00      0.02      0.03        64\n",
      "ColotTriangleDissection       0.00      0.00      0.00         0\n",
      "        ClippingCutting       0.00      0.00      0.00         0\n",
      "  GallbladderDissection       0.00      0.00      0.00         0\n",
      "   GallbladderPackaging       0.00      0.00      0.00         0\n",
      "    CleaningCoagulation       0.00      0.00      0.00         0\n",
      "  GallbladderRetraction       0.00      0.00      0.00         0\n",
      "\n",
      "              micro avg       0.02      0.02      0.02        64\n",
      "              macro avg       0.14      0.00      0.00        64\n",
      "           weighted avg       1.00      0.02      0.03        64\n",
      "\n"
     ]
    },
    {
     "name": "stderr",
     "output_type": "stream",
     "text": [
      "/home/icb/mostafa.shahhosseini/miniconda3/envs/mossi/lib/python3.7/site-packages/sklearn/metrics/_classification.py:1318: UndefinedMetricWarning: Precision and F-score are ill-defined and being set to 0.0 in labels with no predicted samples. Use `zero_division` parameter to control this behavior.\n",
      "  _warn_prf(average, modifier, msg_start, len(result))\n",
      "/home/icb/mostafa.shahhosseini/miniconda3/envs/mossi/lib/python3.7/site-packages/sklearn/metrics/_classification.py:1318: UndefinedMetricWarning: Recall and F-score are ill-defined and being set to 0.0 in labels with no true samples. Use `zero_division` parameter to control this behavior.\n",
      "  _warn_prf(average, modifier, msg_start, len(result))\n",
      "/home/icb/mostafa.shahhosseini/miniconda3/envs/mossi/lib/python3.7/site-packages/sklearn/metrics/_classification.py:1318: UndefinedMetricWarning: Precision and F-score are ill-defined and being set to 0.0 in labels with no predicted samples. Use `zero_division` parameter to control this behavior.\n",
      "  _warn_prf(average, modifier, msg_start, len(result))\n",
      "/home/icb/mostafa.shahhosseini/miniconda3/envs/mossi/lib/python3.7/site-packages/sklearn/metrics/_classification.py:1318: UndefinedMetricWarning: Recall and F-score are ill-defined and being set to 0.0 in labels with no true samples. Use `zero_division` parameter to control this behavior.\n",
      "  _warn_prf(average, modifier, msg_start, len(result))\n",
      "/home/icb/mostafa.shahhosseini/miniconda3/envs/mossi/lib/python3.7/site-packages/sklearn/metrics/_classification.py:1318: UndefinedMetricWarning: Precision and F-score are ill-defined and being set to 0.0 in labels with no predicted samples. Use `zero_division` parameter to control this behavior.\n",
      "  _warn_prf(average, modifier, msg_start, len(result))\n",
      "/home/icb/mostafa.shahhosseini/miniconda3/envs/mossi/lib/python3.7/site-packages/sklearn/metrics/_classification.py:1318: UndefinedMetricWarning: Recall and F-score are ill-defined and being set to 0.0 in labels with no true samples. Use `zero_division` parameter to control this behavior.\n",
      "  _warn_prf(average, modifier, msg_start, len(result))\n",
      "/home/icb/mostafa.shahhosseini/miniconda3/envs/mossi/lib/python3.7/site-packages/pytorch_lightning/trainer/connectors/data_connector.py:245: PossibleUserWarning: The dataloader, train_dataloader, does not have many workers which may be a bottleneck. Consider increasing the value of the `num_workers` argument` (try 112 which is the number of cpus on this machine) in the `DataLoader` init to improve performance.\n",
      "  category=PossibleUserWarning,\n"
     ]
    },
    {
     "data": {
      "application/vnd.jupyter.widget-view+json": {
       "model_id": "3b5aa8382ea548be806d4e022928ced2",
       "version_major": 2,
       "version_minor": 0
      },
      "text/plain": [
       "Training: 0it [00:00, ?it/s]"
      ]
     },
     "metadata": {},
     "output_type": "display_data"
    },
    {
     "data": {
      "application/vnd.jupyter.widget-view+json": {
       "model_id": "bc7b68f36d94414b8451f2f98debf339",
       "version_major": 2,
       "version_minor": 0
      },
      "text/plain": [
       "Validation: 0it [00:00, ?it/s]"
      ]
     },
     "metadata": {},
     "output_type": "display_data"
    },
    {
     "name": "stdout",
     "output_type": "stream",
     "text": [
      "val\n",
      "                         precision    recall  f1-score   support\n",
      "\n",
      "            Preparation       0.06      0.08      0.07       164\n",
      "ColotTriangleDissection       0.76      0.62      0.68      1747\n",
      "        ClippingCutting       0.17      0.35      0.23       305\n",
      "  GallbladderDissection       0.68      0.80      0.74      1669\n",
      "   GallbladderPackaging       0.47      0.37      0.42       251\n",
      "    CleaningCoagulation       0.69      0.14      0.24       563\n",
      "  GallbladderRetraction       0.37      0.62      0.47       264\n",
      "\n",
      "               accuracy                           0.58      4963\n",
      "              macro avg       0.46      0.43      0.41      4963\n",
      "           weighted avg       0.63      0.58      0.58      4963\n",
      "\n",
      "train\n",
      "                         precision    recall  f1-score   support\n",
      "\n",
      "            Preparation       0.29      0.24      0.27       736\n",
      "ColotTriangleDissection       0.61      0.85      0.71      4261\n",
      "        ClippingCutting       0.65      0.40      0.49      1639\n",
      "  GallbladderDissection       0.76      0.70      0.73      4215\n",
      "   GallbladderPackaging       0.63      0.31      0.42       608\n",
      "    CleaningCoagulation       0.67      0.27      0.38       947\n",
      "  GallbladderRetraction       0.58      0.74      0.65      1023\n",
      "\n",
      "               accuracy                           0.64     13429\n",
      "              macro avg       0.60      0.50      0.52     13429\n",
      "           weighted avg       0.65      0.64      0.62     13429\n",
      "\n"
     ]
    },
    {
     "data": {
      "application/vnd.jupyter.widget-view+json": {
       "model_id": "a710e13a3a5249ce86ed939746e2006d",
       "version_major": 2,
       "version_minor": 0
      },
      "text/plain": [
       "Validation: 0it [00:00, ?it/s]"
      ]
     },
     "metadata": {},
     "output_type": "display_data"
    },
    {
     "name": "stdout",
     "output_type": "stream",
     "text": [
      "val\n",
      "                         precision    recall  f1-score   support\n",
      "\n",
      "            Preparation       0.04      0.09      0.06       164\n",
      "ColotTriangleDissection       0.83      0.58      0.68      1747\n",
      "        ClippingCutting       0.22      0.42      0.29       305\n",
      "  GallbladderDissection       0.69      0.79      0.74      1669\n",
      "   GallbladderPackaging       0.39      0.47      0.43       251\n",
      "    CleaningCoagulation       0.67      0.22      0.33       563\n",
      "  GallbladderRetraction       0.39      0.65      0.49       264\n",
      "\n",
      "               accuracy                           0.58      4963\n",
      "              macro avg       0.46      0.46      0.43      4963\n",
      "           weighted avg       0.66      0.58      0.59      4963\n",
      "\n",
      "train\n",
      "                         precision    recall  f1-score   support\n",
      "\n",
      "            Preparation       0.73      0.55      0.63       736\n",
      "ColotTriangleDissection       0.87      0.90      0.89      4261\n",
      "        ClippingCutting       0.84      0.77      0.81      1639\n",
      "  GallbladderDissection       0.87      0.89      0.88      4215\n",
      "   GallbladderPackaging       0.72      0.68      0.70       608\n",
      "    CleaningCoagulation       0.83      0.70      0.76       947\n",
      "  GallbladderRetraction       0.70      0.85      0.76      1023\n",
      "\n",
      "               accuracy                           0.83     13429\n",
      "              macro avg       0.79      0.76      0.77     13429\n",
      "           weighted avg       0.83      0.83      0.83     13429\n",
      "\n"
     ]
    },
    {
     "data": {
      "application/vnd.jupyter.widget-view+json": {
       "model_id": "3a8a350a980a4533a5beddb7672cba86",
       "version_major": 2,
       "version_minor": 0
      },
      "text/plain": [
       "Validation: 0it [00:00, ?it/s]"
      ]
     },
     "metadata": {},
     "output_type": "display_data"
    },
    {
     "name": "stdout",
     "output_type": "stream",
     "text": [
      "val\n",
      "                         precision    recall  f1-score   support\n",
      "\n",
      "            Preparation       0.06      0.10      0.07       164\n",
      "ColotTriangleDissection       0.83      0.56      0.67      1747\n",
      "        ClippingCutting       0.27      0.44      0.33       305\n",
      "  GallbladderDissection       0.65      0.83      0.73      1669\n",
      "   GallbladderPackaging       0.38      0.53      0.44       251\n",
      "    CleaningCoagulation       0.67      0.26      0.37       563\n",
      "  GallbladderRetraction       0.48      0.61      0.54       264\n",
      "\n",
      "               accuracy                           0.59      4963\n",
      "              macro avg       0.48      0.47      0.45      4963\n",
      "           weighted avg       0.65      0.59      0.60      4963\n",
      "\n",
      "train\n",
      "                         precision    recall  f1-score   support\n",
      "\n",
      "            Preparation       0.79      0.70      0.74       736\n",
      "ColotTriangleDissection       0.92      0.92      0.92      4261\n",
      "        ClippingCutting       0.87      0.85      0.86      1639\n",
      "  GallbladderDissection       0.91      0.92      0.92      4215\n",
      "   GallbladderPackaging       0.73      0.72      0.73       608\n",
      "    CleaningCoagulation       0.87      0.80      0.83       947\n",
      "  GallbladderRetraction       0.77      0.86      0.81      1023\n",
      "\n",
      "               accuracy                           0.88     13429\n",
      "              macro avg       0.84      0.83      0.83     13429\n",
      "           weighted avg       0.88      0.88      0.88     13429\n",
      "\n"
     ]
    },
    {
     "data": {
      "application/vnd.jupyter.widget-view+json": {
       "model_id": "f55ecdc40b3f496aa9332c871791b6c4",
       "version_major": 2,
       "version_minor": 0
      },
      "text/plain": [
       "Validation: 0it [00:00, ?it/s]"
      ]
     },
     "metadata": {},
     "output_type": "display_data"
    },
    {
     "name": "stdout",
     "output_type": "stream",
     "text": [
      "val\n",
      "                         precision    recall  f1-score   support\n",
      "\n",
      "            Preparation       0.08      0.23      0.12       164\n",
      "ColotTriangleDissection       0.84      0.50      0.63      1747\n",
      "        ClippingCutting       0.28      0.55      0.37       305\n",
      "  GallbladderDissection       0.66      0.80      0.73      1669\n",
      "   GallbladderPackaging       0.37      0.49      0.42       251\n",
      "    CleaningCoagulation       0.66      0.23      0.34       563\n",
      "  GallbladderRetraction       0.52      0.63      0.57       264\n",
      "\n",
      "               accuracy                           0.57      4963\n",
      "              macro avg       0.49      0.49      0.45      4963\n",
      "           weighted avg       0.66      0.57      0.58      4963\n",
      "\n",
      "train\n",
      "                         precision    recall  f1-score   support\n",
      "\n",
      "            Preparation       0.85      0.78      0.81       736\n",
      "ColotTriangleDissection       0.93      0.94      0.94      4261\n",
      "        ClippingCutting       0.90      0.89      0.89      1639\n",
      "  GallbladderDissection       0.94      0.94      0.94      4215\n",
      "   GallbladderPackaging       0.77      0.77      0.77       608\n",
      "    CleaningCoagulation       0.89      0.86      0.88       947\n",
      "  GallbladderRetraction       0.82      0.88      0.85      1023\n",
      "\n",
      "               accuracy                           0.91     13429\n",
      "              macro avg       0.87      0.86      0.87     13429\n",
      "           weighted avg       0.91      0.91      0.91     13429\n",
      "\n"
     ]
    }
   ],
   "source": [
    "# TASK: train the model --------------------------------------------------------\n",
    "# TIP: use pl.Trainer, make sure to use the gpu and train for 4 epochs, -> max_epochs=4. Make sure to call the fit function with both the train and validation loaders to get correct evaluations during training\n",
    "# TIP: Training should take around 10 mins\n",
    "trainer = pl.Trainer(gpus=1, max_epochs=4)\n",
    "trainer.fit(model, train_dataloaders=train_loader, val_dataloaders=val_loader)\n",
    "# trainer: your trainer\n",
    "\n",
    "# ------------------------------------------------------------------------------"
   ]
  },
  {
   "cell_type": "markdown",
   "metadata": {
    "id": "ykBhY8oa470t"
   },
   "source": [
    "#### Save the model!\n",
    "\n",
    "Training a neural network takes some time. If you don't want to loose this progress, e.g. because you need to take a break from this exercise, make sure to save the model with the code below. Then download the created file '\\<myModel\\>.pt'!\n",
    "\n",
    "If you want to continue with your model later, you can use the code provided below to load your model after uploading it to this notebook."
   ]
  },
  {
   "cell_type": "code",
   "execution_count": 88,
   "metadata": {
    "id": "FQBCUxcs4uvO"
   },
   "outputs": [],
   "source": [
    "# save model\n",
    "torch.save(model.state_dict(), 'model_state_dict.pt')\n",
    "\n",
    "# load model (instead of training if you have a saved model)\n",
    "# model.load_state_dict(torch.load('model_state_dict.pt'))"
   ]
  },
  {
   "cell_type": "markdown",
   "metadata": {
    "id": "kmh2rLp4K9E7"
   },
   "source": [
    "### A.3 Evaluate the results\n",
    "#### Test the model on the unseen test set\n",
    "\n"
   ]
  },
  {
   "cell_type": "code",
   "execution_count": 89,
   "metadata": {
    "id": "I7VuQl9POpFw"
   },
   "outputs": [
    {
     "name": "stderr",
     "output_type": "stream",
     "text": [
      "LOCAL_RANK: 0 - CUDA_VISIBLE_DEVICES: [0]\n",
      "/home/icb/mostafa.shahhosseini/miniconda3/envs/mossi/lib/python3.7/site-packages/pytorch_lightning/trainer/connectors/data_connector.py:245: PossibleUserWarning: The dataloader, test_dataloader 0, does not have many workers which may be a bottleneck. Consider increasing the value of the `num_workers` argument` (try 112 which is the number of cpus on this machine) in the `DataLoader` init to improve performance.\n",
      "  category=PossibleUserWarning,\n"
     ]
    },
    {
     "data": {
      "application/vnd.jupyter.widget-view+json": {
       "model_id": "328231c58a42420d92c057a18eeb47b4",
       "version_major": 2,
       "version_minor": 0
      },
      "text/plain": [
       "Testing: 0it [00:00, ?it/s]"
      ]
     },
     "metadata": {},
     "output_type": "display_data"
    },
    {
     "name": "stdout",
     "output_type": "stream",
     "text": [
      "test\n",
      "                         precision    recall  f1-score   support\n",
      "\n",
      "            Preparation       0.29      0.38      0.33       250\n",
      "ColotTriangleDissection       0.93      0.61      0.74      3627\n",
      "        ClippingCutting       0.50      0.58      0.54       635\n",
      "  GallbladderDissection       0.60      0.92      0.73      1903\n",
      "   GallbladderPackaging       0.46      0.43      0.44       426\n",
      "    CleaningCoagulation       0.43      0.35      0.39       414\n",
      "  GallbladderRetraction       0.55      0.74      0.63       359\n",
      "\n",
      "               accuracy                           0.66      7614\n",
      "              macro avg       0.54      0.57      0.54      7614\n",
      "           weighted avg       0.72      0.66      0.66      7614\n",
      "\n"
     ]
    },
    {
     "data": {
      "text/plain": [
       "[{}]"
      ]
     },
     "execution_count": 89,
     "metadata": {},
     "output_type": "execute_result"
    }
   ],
   "source": [
    "# TASK: Test the model on the unseen test set ----------------------------------\n",
    "trainer.test(model, test_loader)\n",
    "# ------------------------------------------------------------------------------"
   ]
  },
  {
   "cell_type": "markdown",
   "metadata": {
    "id": "IeuiSYCmWKjj"
   },
   "source": [
    "#### Plot the loss to see the training progress"
   ]
  },
  {
   "cell_type": "code",
   "execution_count": 90,
   "metadata": {
    "id": "BsiNukkkK9E8"
   },
   "outputs": [
    {
     "data": {
      "image/png": "[encoded data removed]",
      "text/plain": [
       "<Figure size 800x640 with 1 Axes>"
      ]
     },
     "metadata": {},
     "output_type": "display_data"
    }
   ],
   "source": [
    "# TASK: plot loss --------------------------------------------------------------\n",
    "plt.style.use('ggplot')\n",
    "fig = plt.figure(figsize=(10, 8), dpi = 80)\n",
    "ax = fig.add_subplot(2, 1, 1)\n",
    "ax.set_yscale('log')\n",
    "ax.plot(range(len(model.train_loss)), model.train_loss, color = 'green', label = \"train loss\")\n",
    "ax.plot(range(len(model.val_loss)), model.val_loss,\"--\", color = 'grey', label = \"validation loss\")\n",
    "plt.legend()\n",
    "plt.show()\n",
    "# ------------------------------------------------------------------------------"
   ]
  },
  {
   "cell_type": "markdown",
   "metadata": {
    "id": "asrrcx1aWQQs"
   },
   "source": [
    "#### Visualize Predictions\n",
    "\n",
    "Similar to before, get a random sample from the test_dataset, run it through the model in evaluation mode to get a prediction, then visualize the image, the prediction and the ground truth. Get an example for every phase from the ground truth and look at the image and network prediction."
   ]
  },
  {
   "cell_type": "code",
   "execution_count": 91,
   "metadata": {
    "id": "uRKH0UV-V9wI"
   },
   "outputs": [
    {
     "data": {
      "text/plain": [
       "<matplotlib.image.AxesImage at 0x7fdd7ce84c10>"
      ]
     },
     "execution_count": 91,
     "metadata": {},
     "output_type": "execute_result"
    },
    {
     "data": {
      "image/png": "[encoded data removed]",
      "text/plain": [
       "<Figure size 432x288 with 1 Axes>"
      ]
     },
     "metadata": {},
     "output_type": "display_data"
    }
   ],
   "source": [
    "# TASK: visualize predition results --------------------------------------------\n",
    "plt.imshow(test_dataset[0][\"image\"].reshape(224, 224, 3))\n",
    "# ------------------------------------------------------------------------------"
   ]
  },
  {
   "cell_type": "code",
   "execution_count": 92,
   "metadata": {},
   "outputs": [
    {
     "data": {
      "text/plain": [
       "'Preparation'"
      ]
     },
     "execution_count": 92,
     "metadata": {},
     "output_type": "execute_result"
    }
   ],
   "source": [
    "model.phase_names[model.test_preds[0]]"
   ]
  },
  {
   "cell_type": "markdown",
   "metadata": {
    "id": "qQE_u-hFqNQc"
   },
   "source": [
    "#### Visualize the predictions for a whole video\n",
    "\n",
    "To see a complete predicted workflow we want to plot the predictions for a whole video as a sequence. To achieve that we first have to get the predictions for a whole video in sequence from the model and then plot them with the ground truth for comparison."
   ]
  },
  {
   "cell_type": "code",
   "execution_count": 94,
   "metadata": {},
   "outputs": [],
   "source": [
    "device = torch.device(\"cuda\")\n"
   ]
  },
  {
   "cell_type": "code",
   "execution_count": 110,
   "metadata": {
    "id": "ARHU0KUhj5gt"
   },
   "outputs": [
    {
     "name": "stderr",
     "output_type": "stream",
     "text": [
      " 10%|▉         | 23/238 [00:03<00:21,  9.94it/s]Exception ignored in: <function _MultiProcessingDataLoaderIter.__del__ at 0x7fddcef308c0>\n",
      "Traceback (most recent call last):\n",
      "  File \"/home/icb/mostafa.shahhosseini/miniconda3/envs/mossi/lib/python3.7/site-packages/torch/utils/data/dataloader.py\", line 1358, in __del__\n",
      "    self._shutdown_workers()\n",
      "  File \"/home/icb/mostafa.shahhosseini/miniconda3/envs/mossi/lib/python3.7/site-packages/torch/utils/data/dataloader.py\", line 1341, in _shutdown_workers\n",
      "    if w.is_alive():\n",
      "  File \"/home/icb/mostafa.shahhosseini/miniconda3/envs/mossi/lib/python3.7/multiprocessing/process.py\", line 151, in is_alive\n",
      "    assert self._parent_pid == os.getpid(), 'can only test a child process'\n",
      "AssertionError: can only test a child process\n",
      "Exception ignored in: <function _MultiProcessingDataLoaderIter.__del__ at 0x7fddcef308c0>\n",
      "Traceback (most recent call last):\n",
      "  File \"/home/icb/mostafa.shahhosseini/miniconda3/envs/mossi/lib/python3.7/site-packages/torch/utils/data/dataloader.py\", line 1358, in __del__\n",
      "    self._shutdown_workers()\n",
      "  File \"/home/icb/mostafa.shahhosseini/miniconda3/envs/mossi/lib/python3.7/site-packages/torch/utils/data/dataloader.py\", line 1341, in _shutdown_workers\n",
      "    if w.is_alive():\n",
      "  File \"/home/icb/mostafa.shahhosseini/miniconda3/envs/mossi/lib/python3.7/multiprocessing/process.py\", line 151, in is_alive\n",
      "    assert self._parent_pid == os.getpid(), 'can only test a child process'\n",
      "AssertionError: can only test a child process\n",
      "Exception ignored in: <function _MultiProcessingDataLoaderIter.__del__ at 0x7fddcef308c0>\n",
      "Traceback (most recent call last):\n",
      "  File \"/home/icb/mostafa.shahhosseini/miniconda3/envs/mossi/lib/python3.7/site-packages/torch/utils/data/dataloader.py\", line 1358, in __del__\n",
      "    self._shutdown_workers()\n",
      "  File \"/home/icb/mostafa.shahhosseini/miniconda3/envs/mossi/lib/python3.7/site-packages/torch/utils/data/dataloader.py\", line 1341, in _shutdown_workers\n",
      "    if w.is_alive():\n",
      "  File \"/home/icb/mostafa.shahhosseini/miniconda3/envs/mossi/lib/python3.7/multiprocessing/process.py\", line 151, in is_alive\n",
      "    assert self._parent_pid == os.getpid(), 'can only test a child process'\n",
      "AssertionError: can only test a child process\n",
      "Exception ignored in: <function _MultiProcessingDataLoaderIter.__del__ at 0x7fddcef308c0>\n",
      "Traceback (most recent call last):\n",
      "  File \"/home/icb/mostafa.shahhosseini/miniconda3/envs/mossi/lib/python3.7/site-packages/torch/utils/data/dataloader.py\", line 1358, in __del__\n",
      "    self._shutdown_workers()\n",
      "  File \"/home/icb/mostafa.shahhosseini/miniconda3/envs/mossi/lib/python3.7/site-packages/torch/utils/data/dataloader.py\", line 1341, in _shutdown_workers\n",
      "    if w.is_alive():\n",
      "  File \"/home/icb/mostafa.shahhosseini/miniconda3/envs/mossi/lib/python3.7/multiprocessing/process.py\", line 151, in is_alive\n",
      "    assert self._parent_pid == os.getpid(), 'can only test a child process'\n",
      "AssertionError: can only test a child process\n",
      "100%|██████████| 238/238 [00:25<00:00,  9.22it/s]\n"
     ]
    }
   ],
   "source": [
    "device = torch.device(\"cuda\")\n",
    "# TASK: set up the model for evaluation ----------------------------------------\n",
    "# TIP: freeze the model, set to eval mode, transfer to gpu\n",
    "\n",
    "model.eval()\n",
    "\n",
    "for p in model.parameters():\n",
    "  p.requires_grad = False\n",
    "\n",
    "model = model.to(device)\n",
    "\n",
    "# ------------------------------------------------------------------------------\n",
    "\n",
    "video_name = \"video06\" # \"video10\" , \"video42\"\n",
    "video_preds = []\n",
    "video_labels = []\n",
    "for batch in tqdm(test_loader):\n",
    "  if batch['image_name'][0].startswith(video_name):\n",
    "    with torch.no_grad():\n",
    "      # TASK: transfer the input to the gpu and evaluate with your model -------\n",
    "      # batch_preds: Predictions of you model for the current batch\n",
    "      x = batch[\"image\"]\n",
    "      y = batch[\"phase\"]\n",
    "      batch_preds = model.forward(x.to(device))\n",
    "      batch_preds = batch_preds.to(device)\n",
    "      # ------------------------------------------------------------------------\n",
    "      for image_name, pred, label in zip(batch['image_name'], batch_preds, batch['phase']):\n",
    "          if image_name.startswith(video_name):\n",
    "            video_preds.append(pred.detach().cpu().numpy().argmax())\n",
    "            video_labels.append(label.detach().cpu().numpy())"
   ]
  },
  {
   "cell_type": "code",
   "execution_count": 111,
   "metadata": {
    "id": "LyU8FBTtj6ug"
   },
   "outputs": [
    {
     "name": "stderr",
     "output_type": "stream",
     "text": [
      "/home/icb/mostafa.shahhosseini/miniconda3/envs/mossi/lib/python3.7/site-packages/ipykernel_launcher.py:20: MatplotlibDeprecationWarning: Auto-removal of grids by pcolor() and pcolormesh() is deprecated since 3.5 and will be removed two minor releases later; please call grid(False) first.\n"
     ]
    },
    {
     "data": {
      "image/png": "[encoded data removed]",
      "text/plain": [
       "<Figure size 432x288 with 3 Axes>"
      ]
     },
     "metadata": {},
     "output_type": "display_data"
    }
   ],
   "source": [
    "# Plot the predicted workflow\n",
    "fig = plt.figure()\n",
    "cmap= ListedColormap(sns.color_palette(\"muted\", as_cmap=True))\n",
    "levels= list(range(len(model.phase_names) + 1))\n",
    "norm = BoundaryNorm(levels, ncolors=cmap.N, clip=True)\n",
    "\n",
    "ax1 = fig.add_axes([0, 0.4, 2, 0.3])\n",
    "barprops1 = dict(aspect='auto', cmap=cmap, norm=norm, interpolation='nearest')\n",
    "im1 = ax1.imshow(np.array(video_preds).reshape(1,-1), **barprops1)\n",
    "ax1.set_axis_off()\n",
    "ax1.set_title('Prediction')\n",
    "\n",
    "ax2 = fig.add_axes([0, 0, 2, 0.3])\n",
    "barprops2 = dict(aspect='auto', cmap=cmap, norm=norm, interpolation='nearest')\n",
    "im2 = ax2.imshow(np.array(video_labels).reshape(1,-1), **barprops2)\n",
    "ax2.set_axis_off()\n",
    "ax2.set_title('Ground Truth')\n",
    "\n",
    "cbar_ax = fig.add_axes([2.1, 0, 0.05, 0.7])\n",
    "cbar = fig.colorbar(im1, cax=cbar_ax)\n",
    "cbar.set_ticks([x + 0.5 for x in range(7)])\n",
    "cbar.set_ticklabels(model.phase_names)\n",
    "cbar.ax.invert_yaxis()"
   ]
  },
  {
   "cell_type": "markdown",
   "metadata": {
    "id": "9_b5OMi3K9E9"
   },
   "source": [
    "## B. Workflow Recognition with Temporal Modelling\n",
    "\n",
    "Recognizing the current phase of the surgery from a single image can be very difficult, even for a human expert. Including the temporal context in your phase prediction can be very helpful, so we will try to create a machine learning model that can do just that."
   ]
  },
  {
   "cell_type": "markdown",
   "metadata": {
    "id": "IblvQk1JK9E-"
   },
   "source": [
    "### B.1 Load the data as video clips with a phase label\n",
    "\n",
    "For this exercise we want to include the temporal context in each prediction. We accomplish this by looking at the surgical videos contained in the dataset not as individual frames, but as short video clips.\n",
    "Load the data so that you have sequences of 8 <b>consecutive</b> frames and the phase label of the last frame of each such sequence."
   ]
  },
  {
   "cell_type": "code",
   "execution_count": 113,
   "metadata": {
    "id": "9HEVc6bwK9E_"
   },
   "outputs": [],
   "source": [
    "# load data\n",
    "train_dataset_temp = LiverEndoscopy(split='train', balance_data=False, temporal=True)\n",
    "val_dataset_temp = LiverEndoscopy(split='val', balance_data=False, temporal=True)\n",
    "test_dataset_temp = LiverEndoscopy(split='test', balance_data=False, temporal=True)\n",
    "train_loader_temp = DataLoader(train_dataset_temp, batch_size=32, shuffle=True, num_workers=2)\n",
    "val_loader_temp = DataLoader(val_dataset_temp, batch_size=32, shuffle=False, num_workers=2)\n",
    "test_loader_temp = DataLoader(test_dataset_temp, batch_size=32, shuffle=False, num_workers=2)"
   ]
  },
  {
   "cell_type": "markdown",
   "metadata": {
    "id": "7QM7tmwAK9FA"
   },
   "source": [
    "### B.2 Extract Image Features\n",
    "\n",
    "We will use the model you previously trained as a feature extractor. This means, we will run every image in all the datasets through the model, and get the image features (not the phase predictions).\n",
    "TASK: To this end, you first need to disable the linear layer of the model.\n",
    "Make sure to set it  to evaluate model, transfer it to gpu, and freeze it as well.\n",
    "\n",
    "Then we create a dictionary called all_features, where the keys will be the image names, and the values will be the corresponding image features."
   ]
  },
  {
   "cell_type": "code",
   "execution_count": 152,
   "metadata": {
    "id": "GxBCTolaK9FB"
   },
   "outputs": [],
   "source": [
    "# TASK: set model up to extract features ---------------------------------------\n",
    "# TIP: freeze the model, set to eval mode, transfer to gpu and disable the linear layer\n",
    "temp_model = model\n",
    "\n",
    "temp_model.eval()\n",
    "\n",
    "for p in temp_model.parameters():\n",
    "    p.requires_grad = False\n",
    "\n",
    "model.linear = nn.Identity()\n",
    "\n",
    "temp_model = temp_model.to(device)\n",
    "\n",
    "# ------------------------------------------------------------------------------\n",
    "\n",
    "# recreate the train dataset without augmentions\n",
    "train_dataset = LiverEndoscopy(split='train', balance_data=False, temporal=False, pil_transform=pil_transform)\n",
    "train_loader = DataLoader(train_dataset, batch_size=128, shuffle=False, num_workers=2, pin_memory=True)\n",
    "val_dataset = LiverEndoscopy(split='val', balance_data=False, temporal=False, pil_transform=pil_transform)\n",
    "val_loader = DataLoader(val_dataset, batch_size=128, shuffle=False, num_workers=2, pin_memory=True)\n",
    "test_dataset = LiverEndoscopy(split='test', balance_data=False, temporal=False, pil_transform=pil_transform)\n",
    "test_loader = DataLoader(test_dataset, batch_size=128, shuffle=False, num_workers=2, pin_memory=True)\n",
    "\n",
    "# TASK: iterate through the data, extract features with your model, write to all_features\n",
    "# TIP: feature extraction should take 5 min to run\n",
    "# TIP: extract features for all sets (train, val, test)\n",
    "all_features = {} # Keys: image names, Features: corresponding image features\n",
    "\n",
    "\n",
    "\n",
    "# ------------------------------------------------------------------------------"
   ]
  },
  {
   "cell_type": "code",
   "execution_count": 153,
   "metadata": {},
   "outputs": [
    {
     "name": "stderr",
     "output_type": "stream",
     "text": [
      "/home/icb/mostafa.shahhosseini/miniconda3/envs/mossi/lib/python3.7/site-packages/ipykernel_launcher.py:1: TqdmDeprecationWarning: This function will be removed in tqdm==5.0.0\n",
      "Please use `tqdm.notebook.tqdm` instead of `tqdm.tqdm_notebook`\n",
      "  \"\"\"Entry point for launching an IPython kernel.\n"
     ]
    },
    {
     "data": {
      "application/vnd.jupyter.widget-view+json": {
       "model_id": "46ab5f525b4c4f23945387ebe98e114e",
       "version_major": 2,
       "version_minor": 0
      },
      "text/plain": [
       "  0%|          | 0/105 [00:00<?, ?it/s]"
      ]
     },
     "metadata": {},
     "output_type": "display_data"
    }
   ],
   "source": [
    "for batch in tqdm_notebook(train_loader):\n",
    "     output = temp_model.forward(batch[\"image\"].to(device))\n",
    "     for i, img in enumerate(batch[\"image_name\"]):\n",
    "          all_features[img] = output[i]\n",
    "#     all_features[img[\"image_name\"]] = output[i]\n",
    "    # all_features[img[\"image_name\"]] = temp_model.forward(img[\"image\"].to(device))"
   ]
  },
  {
   "cell_type": "code",
   "execution_count": 154,
   "metadata": {},
   "outputs": [
    {
     "name": "stderr",
     "output_type": "stream",
     "text": [
      "/home/icb/mostafa.shahhosseini/miniconda3/envs/mossi/lib/python3.7/site-packages/ipykernel_launcher.py:1: TqdmDeprecationWarning: This function will be removed in tqdm==5.0.0\n",
      "Please use `tqdm.notebook.tqdm` instead of `tqdm.tqdm_notebook`\n",
      "  \"\"\"Entry point for launching an IPython kernel.\n"
     ]
    },
    {
     "data": {
      "application/vnd.jupyter.widget-view+json": {
       "model_id": "58d3cfd602ed4a1581881022adc9ad8e",
       "version_major": 2,
       "version_minor": 0
      },
      "text/plain": [
       "  0%|          | 0/39 [00:00<?, ?it/s]"
      ]
     },
     "metadata": {},
     "output_type": "display_data"
    }
   ],
   "source": [
    "for batch in tqdm_notebook(val_loader):\n",
    "     output = temp_model.forward(batch[\"image\"].to(device))\n",
    "     for i, img in enumerate(batch[\"image_name\"]):\n",
    "          all_features[img] = output[i]\n",
    "#     all_features[img[\"image_name\"]] = output[i]\n",
    "    # all_features[img[\"image_name\"]] = temp_model.forward(img[\"image\"].to(device))"
   ]
  },
  {
   "cell_type": "code",
   "execution_count": 155,
   "metadata": {},
   "outputs": [
    {
     "name": "stderr",
     "output_type": "stream",
     "text": [
      "/home/icb/mostafa.shahhosseini/miniconda3/envs/mossi/lib/python3.7/site-packages/ipykernel_launcher.py:1: TqdmDeprecationWarning: This function will be removed in tqdm==5.0.0\n",
      "Please use `tqdm.notebook.tqdm` instead of `tqdm.tqdm_notebook`\n",
      "  \"\"\"Entry point for launching an IPython kernel.\n"
     ]
    },
    {
     "data": {
      "application/vnd.jupyter.widget-view+json": {
       "model_id": "45f85213d72a4cd896dd8ff7fbf28910",
       "version_major": 2,
       "version_minor": 0
      },
      "text/plain": [
       "  0%|          | 0/60 [00:00<?, ?it/s]"
      ]
     },
     "metadata": {},
     "output_type": "display_data"
    }
   ],
   "source": [
    "for batch in tqdm_notebook(test_loader):\n",
    "     output = temp_model.forward(batch[\"image\"].to(device))\n",
    "     for i, img in enumerate(batch[\"image_name\"]):\n",
    "          all_features[img] = output[i]\n",
    "#     all_features[img[\"image_name\"]] = output[i]\n",
    "    # all_features[img[\"image_name\"]] = temp_model.forward(img[\"image\"].to(device))"
   ]
  },
  {
   "cell_type": "code",
   "execution_count": 150,
   "metadata": {
    "id": "ht5Bhs-sJV8z"
   },
   "outputs": [],
   "source": [
    "#Simple test for checking the validity of all features\n",
    "assert all_features['video01_000276'].shape[0] == 512"
   ]
  },
  {
   "cell_type": "markdown",
   "metadata": {
    "id": "8_XKjUKcK9FC"
   },
   "source": [
    "### B.3 Simple Temporal model\n",
    "\n",
    "Now you will design a temporal model, that will take the extracted image features as input and predict the surgical phase of the last frame in the sequence.\n",
    "\n",
    "Many types of models can be used here. We will go for a very simple option. We will concatenate the image features from 8 neigbouring images, and feed it through 2 linear layers to make a final prediction of 7 phases again."
   ]
  },
  {
   "cell_type": "code",
   "execution_count": 173,
   "metadata": {},
   "outputs": [
    {
     "name": "stderr",
     "output_type": "stream",
     "text": [
      "IOPub data rate exceeded.\n",
      "The Jupyter server will temporarily stop sending output\n",
      "to the client in order to avoid crashing it.\n",
      "To change this limit, set the config variable\n",
      "`--ServerApp.iopub_data_rate_limit`.\n",
      "\n",
      "Current values:\n",
      "ServerApp.iopub_data_rate_limit=1000000.0 (bytes/sec)\n",
      "ServerApp.rate_limit_window=3.0 (secs)\n",
      "\n"
     ]
    }
   ],
   "source": [
    "all_image_features = []\n",
    "for batch in train_loader:\n",
    "    # print(batch)\n",
    "    for image_names in batch['image_name']:\n",
    "        # print(image_names)\n",
    "        batch_image_features = [all_features[image_names.replace('.png', '')]]\n",
    "        all_image_features.append(torch.stack(batch_image_features))\n",
    "print(all_image_features)\n",
    "# all_image_features = torch.stack(all_image_features).transpose(0, 1)\n",
    "# all_image_features = all_image_features.to(self.device)\n"
   ]
  },
  {
   "cell_type": "code",
   "execution_count": 183,
   "metadata": {
    "id": "aT_4Na5EK9FC"
   },
   "outputs": [],
   "source": [
    "# build mlp\n",
    "class TemporalModelWrapper(pl.LightningModule):\n",
    "    def __init__(self, features):\n",
    "        super().__init__()\n",
    "        # TASK: Desfine you model layers ---------------------------------------\n",
    "        # TIP: First layer: Input size: 512x8 -> output 256. \n",
    "        # TIP: Second Layer: Input size: 256 -> output 7\n",
    "        self.L1 = nn.Linear(8 * 512, 256)\n",
    "        self.L2 = nn.Linear(256, 7)\n",
    "\n",
    "        self.loss = nn.CrossEntropyLoss()\n",
    "\n",
    "        # ----------------------------------------------------------------------\n",
    "        self.features = features\n",
    "\n",
    "        self.train_preds = []\n",
    "        self.train_gts = []\n",
    "        self.val_preds = []\n",
    "        self.val_gts = []\n",
    "        self.test_preds = []\n",
    "        self.test_gts = []\n",
    "        self.reset_metrics()\n",
    "\n",
    "        self.train_loss = []\n",
    "        self.val_loss = []\n",
    "        self.test_loss = []\n",
    "\n",
    "        self.phase_names = ['Preparation', 'ColotTriangleDissection', 'ClippingCutting', 'GallbladderDissection', 'GallbladderPackaging', 'CleaningCoagulation',\n",
    "                            'GallbladderRetraction']\n",
    "\n",
    "    def forward(self, x):\n",
    "        # TASK: define your network --------------------------------------------\n",
    "        # TIP: x has the shape Batch_size x 8 x 512 -> You need to reshape it to batch_size x 4096 and then pass it through the fully connected layers\n",
    "        x = x.reshape(-1, 4096)\n",
    "        x = self.L1(x)\n",
    "        x = self.L2(x)\n",
    "        # ----------------------------------------------------------------------\n",
    "        return x\n",
    "\n",
    "    def training_step(self, batch, batch_idx):\n",
    "        # training_step defines the train loop.\n",
    "        # We get the pre computed image features\n",
    "        all_image_features = []\n",
    "        for image_names in batch['image_names']:\n",
    "            batch_image_features = [self.features[image_name.replace('.png', '')] for image_name in image_names]\n",
    "            all_image_features.append(torch.stack(batch_image_features))\n",
    "        all_image_features = torch.stack(all_image_features).transpose(0, 1)\n",
    "        all_image_features = all_image_features.to(self.device)\n",
    "        # TASK: get a prediction from the model and calculate cross_entropy loss.\n",
    "        # y_hat: prediction from the model\n",
    "        # loss: calculated loss from the model\n",
    "        y = batch[\"phase\"]\n",
    "        y_hat = self.forward(all_image_features)\n",
    "        # print(y_hat.shape, y.shape)\n",
    "        loss = self.loss(y_hat, y)\n",
    "        # ----------------------------------------------------------------------\n",
    "        self.update_metrics(batch['phase'], y_hat, split='train')\n",
    "        self.train_loss.append(loss.item())\n",
    "        return {'loss': loss}\n",
    "\n",
    "    def validation_step(self, batch, batch_idx):\n",
    "        # validation_step defines the validation loop.\n",
    "        all_image_features = []\n",
    "        for image_names in batch['image_names']:\n",
    "            batch_image_features = [self.features[image_name.replace('.png', '')] for image_name in image_names]\n",
    "            all_image_features.append(torch.stack(batch_image_features))\n",
    "        all_image_features = torch.stack(all_image_features).transpose(0, 1)\n",
    "        all_image_features = all_image_features.to(self.device)\n",
    "        # TASK: get a prediction from the model and calculate cross_entropy loss.\n",
    "        # y_hat: prediction from the model\n",
    "        # loss: calculated loss from the model\n",
    "        y = batch[\"phase\"]\n",
    "        y_hat = self.forward(all_image_features)\n",
    "        # print(y_hat.shape, y.shape)\n",
    "        loss = self.loss(y_hat, y)\n",
    "\n",
    "        # ----------------------------------------------------------------------\n",
    "        self.update_metrics(batch['phase'], y_hat, split='val')\n",
    "        self.val_loss.append(loss.item())\n",
    "        return {'val_loss': loss}\n",
    "\n",
    "    def test_step(self, batch, batch_idx):\n",
    "        # test_step defines the test loop.\n",
    "        all_image_features = []\n",
    "        for image_names in batch['image_names']:\n",
    "            batch_image_features = [self.features[image_name.replace('.png', '')] for image_name in image_names]\n",
    "            all_image_features.append(torch.stack(batch_image_features))\n",
    "        all_image_features = torch.stack(all_image_features).transpose(0, 1)\n",
    "        all_image_features = all_image_features.to(self.device)\n",
    "        # TASK: get a prediction from the model and calculate cross_entropy loss.\n",
    "        # y_hat: prediction from the model\n",
    "        # loss: calculated loss from the model\n",
    "\n",
    "        y = batch[\"phase\"]\n",
    "        y_hat = self.forward(all_image_features)\n",
    "        loss = self.loss(y_hat, y)\n",
    "\n",
    "        # ----------------------------------------------------------------------\n",
    "        self.update_metrics(batch['phase'], y_hat, split='test')\n",
    "        self.test_loss.append(loss.item())\n",
    "        return {'test_loss': loss}\n",
    "\n",
    "    def configure_optimizers(self):\n",
    "        optimizer = torch.optim.Adam(self.parameters(), lr=1e-5, weight_decay=1e-6)\n",
    "        return optimizer\n",
    "\n",
    "    def reset_metrics(self, split=None):\n",
    "        if split == 'train':\n",
    "            self.train_preds = []\n",
    "            self.train_gts = []\n",
    "        elif split == 'val':\n",
    "            self.val_preds = []\n",
    "            self.val_gts = []\n",
    "        elif split == 'test':\n",
    "            self.test_preds = []\n",
    "            self.test_gts = []\n",
    "        else:\n",
    "            self.train_preds = []\n",
    "            self.train_gts = []\n",
    "            self.val_preds = []\n",
    "            self.val_gts = []\n",
    "            self.test_preds = []\n",
    "            self.test_gts = []\n",
    "\n",
    "    def update_metrics(self, gt, pred, split='train'):\n",
    "        if split == 'train':\n",
    "            self.train_preds.extend(pred.detach().cpu().numpy().argmax(1))\n",
    "            self.train_gts.extend(gt.detach().cpu().numpy())\n",
    "        elif split == 'val':\n",
    "            self.val_preds.extend(pred.detach().cpu().numpy().argmax(1))\n",
    "            self.val_gts.extend(gt.detach().cpu().numpy())\n",
    "        elif split == 'test':\n",
    "            self.test_preds.extend(pred.detach().cpu().numpy().argmax(1))\n",
    "            self.test_gts.extend(gt.detach().cpu().numpy())\n",
    "        else:\n",
    "            raise NotImplementedError()\n",
    "\n",
    "    def training_epoch_end(self, outputs):\n",
    "        self.evaluate_predictions(split='train')\n",
    "        self.reset_metrics(split='train')\n",
    "\n",
    "    def validation_epoch_end(self, outputs):\n",
    "        self.evaluate_predictions(split='val')\n",
    "        self.reset_metrics(split='val')\n",
    "\n",
    "    def test_epoch_end(self, outputs):\n",
    "        self.evaluate_predictions(split='test')\n",
    "        self.reset_metrics(split='test')\n",
    "\n",
    "    def evaluate_predictions(self, split):\n",
    "        if split == 'train':\n",
    "            preds = self.train_preds\n",
    "            gts = self.train_gts\n",
    "        elif split == 'val':\n",
    "            preds = self.val_preds\n",
    "            gts = self.val_gts\n",
    "        elif split == 'test':\n",
    "            preds = self.test_preds\n",
    "            gts = self.test_gts\n",
    "        else:\n",
    "            raise NotImplementedError()\n",
    "\n",
    "        cls_report = classification_report(gts, preds, labels=list(range(len(self.phase_names))),\n",
    "                                           target_names=self.phase_names)\n",
    "        print(split)\n",
    "        print(cls_report)\n",
    "\n"
   ]
  },
  {
   "cell_type": "markdown",
   "metadata": {
    "id": "uX34y0K-ZV6d"
   },
   "source": [
    "#### Create and Train the Model"
   ]
  },
  {
   "cell_type": "code",
   "execution_count": 188,
   "metadata": {
    "id": "_gXgfnCy1zqM"
   },
   "outputs": [
    {
     "name": "stderr",
     "output_type": "stream",
     "text": [
      "GPU available: True, used: True\n",
      "TPU available: False, using: 0 TPU cores\n",
      "IPU available: False, using: 0 IPUs\n",
      "HPU available: False, using: 0 HPUs\n",
      "/home/icb/mostafa.shahhosseini/miniconda3/envs/mossi/lib/python3.7/site-packages/pytorch_lightning/callbacks/model_checkpoint.py:611: UserWarning: Checkpoint directory /mnt/home/icb/mostafa.shahhosseini/lightning_logs/version_8190916/checkpoints exists and is not empty.\n",
      "  rank_zero_warn(f\"Checkpoint directory {dirpath} exists and is not empty.\")\n",
      "LOCAL_RANK: 0 - CUDA_VISIBLE_DEVICES: [0]\n",
      "\n",
      "  | Name | Type             | Params\n",
      "------------------------------------------\n",
      "0 | L1   | Linear           | 1.0 M \n",
      "1 | L2   | Linear           | 1.8 K \n",
      "2 | loss | CrossEntropyLoss | 0     \n",
      "------------------------------------------\n",
      "1.1 M     Trainable params\n",
      "0         Non-trainable params\n",
      "1.1 M     Total params\n",
      "4.203     Total estimated model params size (MB)\n"
     ]
    },
    {
     "data": {
      "application/vnd.jupyter.widget-view+json": {
       "model_id": "b38722105bd9449888b024d76fcd2945",
       "version_major": 2,
       "version_minor": 0
      },
      "text/plain": [
       "Sanity Checking: 0it [00:00, ?it/s]"
      ]
     },
     "metadata": {},
     "output_type": "display_data"
    },
    {
     "name": "stderr",
     "output_type": "stream",
     "text": [
      "/home/icb/mostafa.shahhosseini/miniconda3/envs/mossi/lib/python3.7/site-packages/pytorch_lightning/trainer/connectors/data_connector.py:245: PossibleUserWarning: The dataloader, val_dataloader 0, does not have many workers which may be a bottleneck. Consider increasing the value of the `num_workers` argument` (try 112 which is the number of cpus on this machine) in the `DataLoader` init to improve performance.\n",
      "  category=PossibleUserWarning,\n"
     ]
    },
    {
     "name": "stdout",
     "output_type": "stream",
     "text": [
      "val\n",
      "                         precision    recall  f1-score   support\n",
      "\n",
      "            Preparation       1.00      0.17      0.29        64\n",
      "ColotTriangleDissection       0.00      0.00      0.00         0\n",
      "        ClippingCutting       0.00      0.00      0.00         0\n",
      "  GallbladderDissection       0.00      0.00      0.00         0\n",
      "   GallbladderPackaging       0.00      0.00      0.00         0\n",
      "    CleaningCoagulation       0.00      0.00      0.00         0\n",
      "  GallbladderRetraction       0.00      0.00      0.00         0\n",
      "\n",
      "              micro avg       0.17      0.17      0.17        64\n",
      "              macro avg       0.14      0.02      0.04        64\n",
      "           weighted avg       1.00      0.17      0.29        64\n",
      "\n"
     ]
    },
    {
     "name": "stderr",
     "output_type": "stream",
     "text": [
      "/home/icb/mostafa.shahhosseini/miniconda3/envs/mossi/lib/python3.7/site-packages/sklearn/metrics/_classification.py:1318: UndefinedMetricWarning: Precision and F-score are ill-defined and being set to 0.0 in labels with no predicted samples. Use `zero_division` parameter to control this behavior.\n",
      "  _warn_prf(average, modifier, msg_start, len(result))\n",
      "/home/icb/mostafa.shahhosseini/miniconda3/envs/mossi/lib/python3.7/site-packages/sklearn/metrics/_classification.py:1318: UndefinedMetricWarning: Recall and F-score are ill-defined and being set to 0.0 in labels with no true samples. Use `zero_division` parameter to control this behavior.\n",
      "  _warn_prf(average, modifier, msg_start, len(result))\n",
      "/home/icb/mostafa.shahhosseini/miniconda3/envs/mossi/lib/python3.7/site-packages/sklearn/metrics/_classification.py:1318: UndefinedMetricWarning: Precision and F-score are ill-defined and being set to 0.0 in labels with no predicted samples. Use `zero_division` parameter to control this behavior.\n",
      "  _warn_prf(average, modifier, msg_start, len(result))\n",
      "/home/icb/mostafa.shahhosseini/miniconda3/envs/mossi/lib/python3.7/site-packages/sklearn/metrics/_classification.py:1318: UndefinedMetricWarning: Recall and F-score are ill-defined and being set to 0.0 in labels with no true samples. Use `zero_division` parameter to control this behavior.\n",
      "  _warn_prf(average, modifier, msg_start, len(result))\n",
      "/home/icb/mostafa.shahhosseini/miniconda3/envs/mossi/lib/python3.7/site-packages/sklearn/metrics/_classification.py:1318: UndefinedMetricWarning: Precision and F-score are ill-defined and being set to 0.0 in labels with no predicted samples. Use `zero_division` parameter to control this behavior.\n",
      "  _warn_prf(average, modifier, msg_start, len(result))\n",
      "/home/icb/mostafa.shahhosseini/miniconda3/envs/mossi/lib/python3.7/site-packages/sklearn/metrics/_classification.py:1318: UndefinedMetricWarning: Recall and F-score are ill-defined and being set to 0.0 in labels with no true samples. Use `zero_division` parameter to control this behavior.\n",
      "  _warn_prf(average, modifier, msg_start, len(result))\n",
      "/home/icb/mostafa.shahhosseini/miniconda3/envs/mossi/lib/python3.7/site-packages/pytorch_lightning/trainer/connectors/data_connector.py:245: PossibleUserWarning: The dataloader, train_dataloader, does not have many workers which may be a bottleneck. Consider increasing the value of the `num_workers` argument` (try 112 which is the number of cpus on this machine) in the `DataLoader` init to improve performance.\n",
      "  category=PossibleUserWarning,\n"
     ]
    },
    {
     "data": {
      "application/vnd.jupyter.widget-view+json": {
       "model_id": "a216a52f32fe42cfb7d46648a7efa9dc",
       "version_major": 2,
       "version_minor": 0
      },
      "text/plain": [
       "Training: 0it [00:00, ?it/s]"
      ]
     },
     "metadata": {},
     "output_type": "display_data"
    },
    {
     "data": {
      "application/vnd.jupyter.widget-view+json": {
       "model_id": "e06283d1c3c843b7867ae354aa0eebb3",
       "version_major": 2,
       "version_minor": 0
      },
      "text/plain": [
       "Validation: 0it [00:00, ?it/s]"
      ]
     },
     "metadata": {},
     "output_type": "display_data"
    },
    {
     "name": "stdout",
     "output_type": "stream",
     "text": [
      "val\n",
      "                         precision    recall  f1-score   support\n",
      "\n",
      "            Preparation       0.09      0.15      0.12       150\n",
      "ColotTriangleDissection       0.89      0.60      0.72      1740\n",
      "        ClippingCutting       0.38      0.42      0.40       305\n",
      "  GallbladderDissection       0.64      0.94      0.76      1669\n",
      "   GallbladderPackaging       0.51      0.48      0.50       251\n",
      "    CleaningCoagulation       0.72      0.27      0.39       563\n",
      "  GallbladderRetraction       0.58      0.68      0.63       264\n",
      "\n",
      "               accuracy                           0.65      4942\n",
      "              macro avg       0.55      0.51      0.50      4942\n",
      "           weighted avg       0.69      0.65      0.64      4942\n",
      "\n",
      "train\n",
      "                         precision    recall  f1-score   support\n",
      "\n",
      "            Preparation       0.95      0.70      0.80       701\n",
      "ColotTriangleDissection       0.90      0.99      0.94      4247\n",
      "        ClippingCutting       0.97      0.86      0.91      1639\n",
      "  GallbladderDissection       0.91      0.96      0.94      4215\n",
      "   GallbladderPackaging       0.87      0.71      0.78       608\n",
      "    CleaningCoagulation       0.96      0.78      0.86       947\n",
      "  GallbladderRetraction       0.86      0.87      0.87      1023\n",
      "\n",
      "               accuracy                           0.91     13380\n",
      "              macro avg       0.92      0.84      0.87     13380\n",
      "           weighted avg       0.91      0.91      0.91     13380\n",
      "\n"
     ]
    },
    {
     "data": {
      "application/vnd.jupyter.widget-view+json": {
       "model_id": "921d1518a78442e5be9ac749896b6546",
       "version_major": 2,
       "version_minor": 0
      },
      "text/plain": [
       "Validation: 0it [00:00, ?it/s]"
      ]
     },
     "metadata": {},
     "output_type": "display_data"
    },
    {
     "name": "stdout",
     "output_type": "stream",
     "text": [
      "val\n",
      "                         precision    recall  f1-score   support\n",
      "\n",
      "            Preparation       0.11      0.16      0.13       150\n",
      "ColotTriangleDissection       0.90      0.64      0.74      1740\n",
      "        ClippingCutting       0.35      0.48      0.40       305\n",
      "  GallbladderDissection       0.69      0.91      0.78      1669\n",
      "   GallbladderPackaging       0.42      0.51      0.46       251\n",
      "    CleaningCoagulation       0.70      0.35      0.47       563\n",
      "  GallbladderRetraction       0.65      0.67      0.66       264\n",
      "\n",
      "               accuracy                           0.67      4942\n",
      "              macro avg       0.54      0.53      0.52      4942\n",
      "           weighted avg       0.71      0.67      0.67      4942\n",
      "\n",
      "train\n",
      "                         precision    recall  f1-score   support\n",
      "\n",
      "            Preparation       0.93      0.91      0.92       701\n",
      "ColotTriangleDissection       0.98      0.99      0.98      4247\n",
      "        ClippingCutting       0.97      0.97      0.97      1639\n",
      "  GallbladderDissection       0.98      0.98      0.98      4215\n",
      "   GallbladderPackaging       0.87      0.89      0.88       608\n",
      "    CleaningCoagulation       0.96      0.93      0.95       947\n",
      "  GallbladderRetraction       0.94      0.95      0.94      1023\n",
      "\n",
      "               accuracy                           0.97     13380\n",
      "              macro avg       0.95      0.95      0.95     13380\n",
      "           weighted avg       0.97      0.97      0.97     13380\n",
      "\n"
     ]
    },
    {
     "data": {
      "application/vnd.jupyter.widget-view+json": {
       "model_id": "279e5c19da284cbf998af214f1b1193a",
       "version_major": 2,
       "version_minor": 0
      },
      "text/plain": [
       "Validation: 0it [00:00, ?it/s]"
      ]
     },
     "metadata": {},
     "output_type": "display_data"
    },
    {
     "name": "stdout",
     "output_type": "stream",
     "text": [
      "val\n",
      "                         precision    recall  f1-score   support\n",
      "\n",
      "            Preparation       0.11      0.14      0.12       150\n",
      "ColotTriangleDissection       0.84      0.71      0.77      1740\n",
      "        ClippingCutting       0.38      0.36      0.37       305\n",
      "  GallbladderDissection       0.68      0.92      0.78      1669\n",
      "   GallbladderPackaging       0.40      0.49      0.44       251\n",
      "    CleaningCoagulation       0.78      0.25      0.37       563\n",
      "  GallbladderRetraction       0.68      0.66      0.67       264\n",
      "\n",
      "               accuracy                           0.67      4942\n",
      "              macro avg       0.55      0.50      0.50      4942\n",
      "           weighted avg       0.70      0.67      0.66      4942\n",
      "\n",
      "train\n",
      "                         precision    recall  f1-score   support\n",
      "\n",
      "            Preparation       0.94      0.94      0.94       701\n",
      "ColotTriangleDissection       0.98      0.99      0.99      4247\n",
      "        ClippingCutting       0.98      0.97      0.97      1639\n",
      "  GallbladderDissection       0.99      0.98      0.98      4215\n",
      "   GallbladderPackaging       0.89      0.91      0.90       608\n",
      "    CleaningCoagulation       0.96      0.94      0.95       947\n",
      "  GallbladderRetraction       0.96      0.96      0.96      1023\n",
      "\n",
      "               accuracy                           0.97     13380\n",
      "              macro avg       0.96      0.96      0.96     13380\n",
      "           weighted avg       0.97      0.97      0.97     13380\n",
      "\n"
     ]
    },
    {
     "data": {
      "application/vnd.jupyter.widget-view+json": {
       "model_id": "79df64f8ee8544d6a0d24ab6871709f8",
       "version_major": 2,
       "version_minor": 0
      },
      "text/plain": [
       "Validation: 0it [00:00, ?it/s]"
      ]
     },
     "metadata": {},
     "output_type": "display_data"
    },
    {
     "name": "stdout",
     "output_type": "stream",
     "text": [
      "val\n",
      "                         precision    recall  f1-score   support\n",
      "\n",
      "            Preparation       0.10      0.17      0.13       150\n",
      "ColotTriangleDissection       0.88      0.69      0.77      1740\n",
      "        ClippingCutting       0.33      0.51      0.40       305\n",
      "  GallbladderDissection       0.72      0.89      0.80      1669\n",
      "   GallbladderPackaging       0.41      0.50      0.45       251\n",
      "    CleaningCoagulation       0.75      0.29      0.42       563\n",
      "  GallbladderRetraction       0.64      0.68      0.66       264\n",
      "\n",
      "               accuracy                           0.68      4942\n",
      "              macro avg       0.55      0.53      0.52      4942\n",
      "           weighted avg       0.72      0.68      0.68      4942\n",
      "\n",
      "train\n",
      "                         precision    recall  f1-score   support\n",
      "\n",
      "            Preparation       0.95      0.95      0.95       701\n",
      "ColotTriangleDissection       0.98      0.99      0.99      4247\n",
      "        ClippingCutting       0.98      0.98      0.98      1639\n",
      "  GallbladderDissection       0.99      0.98      0.99      4215\n",
      "   GallbladderPackaging       0.90      0.92      0.91       608\n",
      "    CleaningCoagulation       0.97      0.96      0.96       947\n",
      "  GallbladderRetraction       0.97      0.96      0.96      1023\n",
      "\n",
      "               accuracy                           0.98     13380\n",
      "              macro avg       0.96      0.96      0.96     13380\n",
      "           weighted avg       0.98      0.98      0.98     13380\n",
      "\n"
     ]
    },
    {
     "data": {
      "application/vnd.jupyter.widget-view+json": {
       "model_id": "f36a191913b448779408a46160e7ef51",
       "version_major": 2,
       "version_minor": 0
      },
      "text/plain": [
       "Validation: 0it [00:00, ?it/s]"
      ]
     },
     "metadata": {},
     "output_type": "display_data"
    },
    {
     "name": "stdout",
     "output_type": "stream",
     "text": [
      "val\n",
      "                         precision    recall  f1-score   support\n",
      "\n",
      "            Preparation       0.09      0.20      0.12       150\n",
      "ColotTriangleDissection       0.88      0.66      0.75      1740\n",
      "        ClippingCutting       0.32      0.50      0.39       305\n",
      "  GallbladderDissection       0.70      0.91      0.79      1669\n",
      "   GallbladderPackaging       0.49      0.47      0.48       251\n",
      "    CleaningCoagulation       0.73      0.23      0.35       563\n",
      "  GallbladderRetraction       0.70      0.67      0.68       264\n",
      "\n",
      "               accuracy                           0.66      4942\n",
      "              macro avg       0.56      0.52      0.51      4942\n",
      "           weighted avg       0.72      0.66      0.66      4942\n",
      "\n",
      "train\n",
      "                         precision    recall  f1-score   support\n",
      "\n",
      "            Preparation       0.96      0.96      0.96       701\n",
      "ColotTriangleDissection       0.99      0.99      0.99      4247\n",
      "        ClippingCutting       0.99      0.98      0.98      1639\n",
      "  GallbladderDissection       0.99      0.99      0.99      4215\n",
      "   GallbladderPackaging       0.91      0.93      0.92       608\n",
      "    CleaningCoagulation       0.97      0.97      0.97       947\n",
      "  GallbladderRetraction       0.97      0.97      0.97      1023\n",
      "\n",
      "               accuracy                           0.98     13380\n",
      "              macro avg       0.97      0.97      0.97     13380\n",
      "           weighted avg       0.98      0.98      0.98     13380\n",
      "\n"
     ]
    },
    {
     "data": {
      "application/vnd.jupyter.widget-view+json": {
       "model_id": "71e42c5772694d26a6829d48c00f5b90",
       "version_major": 2,
       "version_minor": 0
      },
      "text/plain": [
       "Validation: 0it [00:00, ?it/s]"
      ]
     },
     "metadata": {},
     "output_type": "display_data"
    },
    {
     "name": "stdout",
     "output_type": "stream",
     "text": [
      "val\n",
      "                         precision    recall  f1-score   support\n",
      "\n",
      "            Preparation       0.12      0.17      0.14       150\n",
      "ColotTriangleDissection       0.88      0.67      0.76      1740\n",
      "        ClippingCutting       0.31      0.50      0.39       305\n",
      "  GallbladderDissection       0.71      0.90      0.79      1669\n",
      "   GallbladderPackaging       0.45      0.49      0.47       251\n",
      "    CleaningCoagulation       0.72      0.32      0.44       563\n",
      "  GallbladderRetraction       0.67      0.67      0.67       264\n",
      "\n",
      "               accuracy                           0.67      4942\n",
      "              macro avg       0.55      0.53      0.52      4942\n",
      "           weighted avg       0.71      0.67      0.67      4942\n",
      "\n",
      "train\n",
      "                         precision    recall  f1-score   support\n",
      "\n",
      "            Preparation       0.95      0.97      0.96       701\n",
      "ColotTriangleDissection       0.99      0.99      0.99      4247\n",
      "        ClippingCutting       0.99      0.98      0.99      1639\n",
      "  GallbladderDissection       0.99      0.99      0.99      4215\n",
      "   GallbladderPackaging       0.93      0.94      0.93       608\n",
      "    CleaningCoagulation       0.98      0.97      0.97       947\n",
      "  GallbladderRetraction       0.97      0.97      0.97      1023\n",
      "\n",
      "               accuracy                           0.98     13380\n",
      "              macro avg       0.97      0.97      0.97     13380\n",
      "           weighted avg       0.98      0.98      0.98     13380\n",
      "\n"
     ]
    },
    {
     "data": {
      "application/vnd.jupyter.widget-view+json": {
       "model_id": "68745e6a2b394a258f4f6877464ea93b",
       "version_major": 2,
       "version_minor": 0
      },
      "text/plain": [
       "Validation: 0it [00:00, ?it/s]"
      ]
     },
     "metadata": {},
     "output_type": "display_data"
    },
    {
     "name": "stdout",
     "output_type": "stream",
     "text": [
      "val\n",
      "                         precision    recall  f1-score   support\n",
      "\n",
      "            Preparation       0.10      0.16      0.13       150\n",
      "ColotTriangleDissection       0.88      0.68      0.76      1740\n",
      "        ClippingCutting       0.34      0.43      0.38       305\n",
      "  GallbladderDissection       0.70      0.91      0.79      1669\n",
      "   GallbladderPackaging       0.45      0.49      0.47       251\n",
      "    CleaningCoagulation       0.73      0.31      0.43       563\n",
      "  GallbladderRetraction       0.62      0.69      0.65       264\n",
      "\n",
      "               accuracy                           0.67      4942\n",
      "              macro avg       0.55      0.52      0.52      4942\n",
      "           weighted avg       0.71      0.67      0.67      4942\n",
      "\n",
      "train\n",
      "                         precision    recall  f1-score   support\n",
      "\n",
      "            Preparation       0.97      0.97      0.97       701\n",
      "ColotTriangleDissection       0.99      0.99      0.99      4247\n",
      "        ClippingCutting       0.99      0.98      0.99      1639\n",
      "  GallbladderDissection       0.99      0.99      0.99      4215\n",
      "   GallbladderPackaging       0.92      0.93      0.93       608\n",
      "    CleaningCoagulation       0.98      0.97      0.98       947\n",
      "  GallbladderRetraction       0.98      0.97      0.98      1023\n",
      "\n",
      "               accuracy                           0.98     13380\n",
      "              macro avg       0.97      0.97      0.97     13380\n",
      "           weighted avg       0.98      0.98      0.98     13380\n",
      "\n"
     ]
    },
    {
     "data": {
      "application/vnd.jupyter.widget-view+json": {
       "model_id": "fbd89b87b38f417893ee81d919e72ab1",
       "version_major": 2,
       "version_minor": 0
      },
      "text/plain": [
       "Validation: 0it [00:00, ?it/s]"
      ]
     },
     "metadata": {},
     "output_type": "display_data"
    },
    {
     "name": "stdout",
     "output_type": "stream",
     "text": [
      "val\n",
      "                         precision    recall  f1-score   support\n",
      "\n",
      "            Preparation       0.12      0.23      0.16       150\n",
      "ColotTriangleDissection       0.90      0.63      0.74      1740\n",
      "        ClippingCutting       0.31      0.46      0.37       305\n",
      "  GallbladderDissection       0.67      0.92      0.78      1669\n",
      "   GallbladderPackaging       0.42      0.49      0.45       251\n",
      "    CleaningCoagulation       0.78      0.22      0.34       563\n",
      "  GallbladderRetraction       0.72      0.66      0.69       264\n",
      "\n",
      "               accuracy                           0.65      4942\n",
      "              macro avg       0.56      0.52      0.50      4942\n",
      "           weighted avg       0.71      0.65      0.65      4942\n",
      "\n",
      "train\n",
      "                         precision    recall  f1-score   support\n",
      "\n",
      "            Preparation       0.97      0.97      0.97       701\n",
      "ColotTriangleDissection       0.99      0.99      0.99      4247\n",
      "        ClippingCutting       0.99      0.99      0.99      1639\n",
      "  GallbladderDissection       0.99      0.99      0.99      4215\n",
      "   GallbladderPackaging       0.94      0.95      0.95       608\n",
      "    CleaningCoagulation       0.98      0.97      0.98       947\n",
      "  GallbladderRetraction       0.98      0.98      0.98      1023\n",
      "\n",
      "               accuracy                           0.99     13380\n",
      "              macro avg       0.98      0.98      0.98     13380\n",
      "           weighted avg       0.99      0.99      0.99     13380\n",
      "\n"
     ]
    },
    {
     "data": {
      "application/vnd.jupyter.widget-view+json": {
       "model_id": "d21ae75985064789a7882fb26450b214",
       "version_major": 2,
       "version_minor": 0
      },
      "text/plain": [
       "Validation: 0it [00:00, ?it/s]"
      ]
     },
     "metadata": {},
     "output_type": "display_data"
    },
    {
     "name": "stdout",
     "output_type": "stream",
     "text": [
      "val\n",
      "                         precision    recall  f1-score   support\n",
      "\n",
      "            Preparation       0.11      0.14      0.12       150\n",
      "ColotTriangleDissection       0.87      0.69      0.77      1740\n",
      "        ClippingCutting       0.32      0.46      0.38       305\n",
      "  GallbladderDissection       0.71      0.90      0.79      1669\n",
      "   GallbladderPackaging       0.39      0.49      0.44       251\n",
      "    CleaningCoagulation       0.77      0.28      0.41       563\n",
      "  GallbladderRetraction       0.65      0.68      0.66       264\n",
      "\n",
      "               accuracy                           0.67      4942\n",
      "              macro avg       0.54      0.52      0.51      4942\n",
      "           weighted avg       0.71      0.67      0.67      4942\n",
      "\n",
      "train\n",
      "                         precision    recall  f1-score   support\n",
      "\n",
      "            Preparation       0.98      0.98      0.98       701\n",
      "ColotTriangleDissection       0.99      1.00      0.99      4247\n",
      "        ClippingCutting       0.99      0.99      0.99      1639\n",
      "  GallbladderDissection       0.99      0.99      0.99      4215\n",
      "   GallbladderPackaging       0.94      0.95      0.95       608\n",
      "    CleaningCoagulation       0.98      0.97      0.98       947\n",
      "  GallbladderRetraction       0.99      0.98      0.98      1023\n",
      "\n",
      "               accuracy                           0.99     13380\n",
      "              macro avg       0.98      0.98      0.98     13380\n",
      "           weighted avg       0.99      0.99      0.99     13380\n",
      "\n"
     ]
    },
    {
     "data": {
      "application/vnd.jupyter.widget-view+json": {
       "model_id": "c3628a82aa3947c0960f8f6c3dab0909",
       "version_major": 2,
       "version_minor": 0
      },
      "text/plain": [
       "Validation: 0it [00:00, ?it/s]"
      ]
     },
     "metadata": {},
     "output_type": "display_data"
    },
    {
     "name": "stdout",
     "output_type": "stream",
     "text": [
      "val\n",
      "                         precision    recall  f1-score   support\n",
      "\n",
      "            Preparation       0.10      0.22      0.14       150\n",
      "ColotTriangleDissection       0.88      0.65      0.75      1740\n",
      "        ClippingCutting       0.38      0.40      0.39       305\n",
      "  GallbladderDissection       0.68      0.92      0.78      1669\n",
      "   GallbladderPackaging       0.51      0.47      0.49       251\n",
      "    CleaningCoagulation       0.65      0.33      0.44       563\n",
      "  GallbladderRetraction       0.70      0.67      0.68       264\n",
      "\n",
      "               accuracy                           0.67      4942\n",
      "              macro avg       0.56      0.52      0.52      4942\n",
      "           weighted avg       0.70      0.67      0.67      4942\n",
      "\n",
      "train\n",
      "                         precision    recall  f1-score   support\n",
      "\n",
      "            Preparation       0.98      0.98      0.98       701\n",
      "ColotTriangleDissection       0.99      1.00      0.99      4247\n",
      "        ClippingCutting       0.99      0.99      0.99      1639\n",
      "  GallbladderDissection       1.00      0.99      0.99      4215\n",
      "   GallbladderPackaging       0.94      0.97      0.96       608\n",
      "    CleaningCoagulation       0.99      0.98      0.98       947\n",
      "  GallbladderRetraction       0.99      0.98      0.99      1023\n",
      "\n",
      "               accuracy                           0.99     13380\n",
      "              macro avg       0.98      0.98      0.98     13380\n",
      "           weighted avg       0.99      0.99      0.99     13380\n",
      "\n"
     ]
    }
   ],
   "source": [
    "# TASK: create the temporal model and train it ---------------------------------\n",
    "# TIP: again use pl.Trainer. Train for max_epochs=10 this time.\n",
    "# temporal_model: your temporal model\n",
    "temporal_model = TemporalModelWrapper(all_features)\n",
    "trainer = pl.Trainer(gpus=1, max_epochs=10)\n",
    "trainer.fit(temporal_model, train_dataloaders=train_loader_temp, val_dataloaders=val_loader_temp)\n",
    "\n",
    "# ------------------------------------------------------------------------------"
   ]
  },
  {
   "cell_type": "markdown",
   "metadata": {
    "id": "e6-5z3CEZYiS"
   },
   "source": [
    "### B.4 Evaluate the results\n",
    "\n",
    "#### Test the model\n",
    "\n",
    "If everything worked correctly, you should observe an improved performance when using temporal modeling"
   ]
  },
  {
   "cell_type": "code",
   "execution_count": 189,
   "metadata": {
    "id": "2RVTNtGD9JVh"
   },
   "outputs": [
    {
     "name": "stderr",
     "output_type": "stream",
     "text": [
      "LOCAL_RANK: 0 - CUDA_VISIBLE_DEVICES: [0]\n",
      "/home/icb/mostafa.shahhosseini/miniconda3/envs/mossi/lib/python3.7/site-packages/pytorch_lightning/trainer/connectors/data_connector.py:245: PossibleUserWarning: The dataloader, test_dataloader 0, does not have many workers which may be a bottleneck. Consider increasing the value of the `num_workers` argument` (try 112 which is the number of cpus on this machine) in the `DataLoader` init to improve performance.\n",
      "  category=PossibleUserWarning,\n"
     ]
    },
    {
     "data": {
      "application/vnd.jupyter.widget-view+json": {
       "model_id": "ef459806e481431490b7b382678230ca",
       "version_major": 2,
       "version_minor": 0
      },
      "text/plain": [
       "Testing: 0it [00:00, ?it/s]"
      ]
     },
     "metadata": {},
     "output_type": "display_data"
    },
    {
     "name": "stdout",
     "output_type": "stream",
     "text": [
      "test\n",
      "                         precision    recall  f1-score   support\n",
      "\n",
      "            Preparation       0.47      0.50      0.49       236\n",
      "ColotTriangleDissection       0.94      0.70      0.80      3620\n",
      "        ClippingCutting       0.59      0.58      0.59       635\n",
      "  GallbladderDissection       0.64      0.96      0.77      1903\n",
      "   GallbladderPackaging       0.69      0.41      0.51       426\n",
      "    CleaningCoagulation       0.58      0.66      0.62       414\n",
      "  GallbladderRetraction       0.62      0.73      0.67       359\n",
      "\n",
      "               accuracy                           0.73      7593\n",
      "              macro avg       0.65      0.65      0.64      7593\n",
      "           weighted avg       0.77      0.73      0.73      7593\n",
      "\n"
     ]
    },
    {
     "data": {
      "text/plain": [
       "[{}]"
      ]
     },
     "execution_count": 189,
     "metadata": {},
     "output_type": "execute_result"
    }
   ],
   "source": [
    "# TASK: Test the model on the unseen test set ----------------------------------\n",
    "trainer.test(temporal_model, test_loader_temp)\n",
    "# ------------------------------------------------------------------------------"
   ]
  },
  {
   "cell_type": "markdown",
   "metadata": {
    "id": "GKbJF61LZbg3"
   },
   "source": [
    "#### Plot the loss\n"
   ]
  },
  {
   "cell_type": "code",
   "execution_count": 191,
   "metadata": {
    "id": "orguWYFh9KNr"
   },
   "outputs": [
    {
     "data": {
      "image/png": "[encoded data removed]",
      "text/plain": [
       "<Figure size 800x640 with 1 Axes>"
      ]
     },
     "metadata": {},
     "output_type": "display_data"
    }
   ],
   "source": [
    "# TASK: plot loss --------------------------------------------------------------\n",
    "plt.style.use('ggplot')\n",
    "fig = plt.figure(figsize=(10, 8), dpi = 80)\n",
    "ax = fig.add_subplot(2, 1, 1)\n",
    "ax.set_yscale('log')\n",
    "ax.plot(range(len(temporal_model.train_loss)), temporal_model.train_loss, color = 'red', label = \"train loss\")\n",
    "ax.plot(range(len(temporal_model.val_loss)), temporal_model.val_loss,\"--\", color = 'grey', label = \"validation loss\")\n",
    "plt.legend()\n",
    "plt.show()\n",
    "# ------------------------------------------------------------------------------"
   ]
  },
  {
   "cell_type": "markdown",
   "metadata": {
    "id": "I3LWnBnKr3bN"
   },
   "source": [
    "#### Visualize the predictions for a whole video\n",
    "\n",
    "To see a complete predicted workflow we want to plot the predictions for a whole video as a sequence like we did above. We can also plot the results from our normal model to compare against the temporal model."
   ]
  },
  {
   "cell_type": "code",
   "execution_count": 192,
   "metadata": {
    "id": "0ygXyQQjmCBL"
   },
   "outputs": [
    {
     "name": "stderr",
     "output_type": "stream",
     "text": [
      "100%|██████████| 238/238 [00:00<00:00, 362.36it/s]\n"
     ]
    }
   ],
   "source": [
    "device = torch.device(\"cuda\")\n",
    "# TASK: set up the temporal model for evaluation -------------------------------\n",
    "# TIP: freeze the model, set to eval mode, transfer to gpu\n",
    "temporal_model.eval()\n",
    "for p in temporal_model.parameters():\n",
    "  p.requires_grad = False\n",
    "\n",
    "temporal_model = temporal_model.to(device)\n",
    "\n",
    "\n",
    "# ------------------------------------------------------------------------------\n",
    "video_name = \"video06\" # \"video10\" , \"video42\"\n",
    "video_preds_temp = []\n",
    "video_labels = []\n",
    "for batch in tqdm(test_loader_temp):\n",
    "  if batch['image_names'][0][-1].startswith(video_name):\n",
    "    with torch.no_grad():\n",
    "      # Get the pre computed image features\n",
    "      batch_image_features = []\n",
    "      for image_names in batch['image_names']:\n",
    "          image_features = [temporal_model.features[image_name.replace('.png', '')] for image_name in image_names]\n",
    "          batch_image_features.append(torch.stack(image_features))\n",
    "      batch_image_features = torch.stack(batch_image_features).transpose(0, 1)\n",
    "      # TASK: transfer the input to the gpu and evaluate with your model -------\n",
    "      # batch_preds: Predictions of you model for the current batch\n",
    "      batch_preds = temporal_model.forward(batch_image_features.to(device))\n",
    "\n",
    "      # ------------------------------------------------------------------------\n",
    "      for pred, label in zip(batch_preds, batch['phase']):\n",
    "        video_preds_temp.append(pred.detach().cpu().numpy().argmax())\n",
    "        video_labels.append(label.detach().cpu().numpy())"
   ]
  },
  {
   "cell_type": "code",
   "execution_count": 193,
   "metadata": {
    "id": "GAPOZWyr2o-B"
   },
   "outputs": [
    {
     "name": "stderr",
     "output_type": "stream",
     "text": [
      "/home/icb/mostafa.shahhosseini/miniconda3/envs/mossi/lib/python3.7/site-packages/ipykernel_launcher.py:24: MatplotlibDeprecationWarning: Auto-removal of grids by pcolor() and pcolormesh() is deprecated since 3.5 and will be removed two minor releases later; please call grid(False) first.\n"
     ]
    },
    {
     "data": {
      "image/png": "[encoded data removed]",
      "text/plain": [
       "<Figure size 432x288 with 4 Axes>"
      ]
     },
     "metadata": {},
     "output_type": "display_data"
    }
   ],
   "source": [
    "fig = plt.figure()\n",
    "cmap= ListedColormap(sns.color_palette(\"muted\", as_cmap=True))\n",
    "levels= list(range(len(model.phase_names) + 1))\n",
    "norm = BoundaryNorm(levels, ncolors=cmap.N, clip=True)\n",
    "barprops = dict(aspect='auto', cmap=cmap, norm=norm, interpolation='nearest')\n",
    "\n",
    "ax1 = fig.add_axes([0, 0.8, 2, 0.3])\n",
    "# predictions for the normal model are not computed again\n",
    "im1 = ax1.imshow(np.array(video_preds).reshape(1,-1), **barprops)\n",
    "ax1.set_axis_off()\n",
    "ax1.set_title('Prediction')\n",
    "\n",
    "ax2 = fig.add_axes([0, 0.4, 2, 0.3])\n",
    "im2 = ax2.imshow(np.array(video_preds_temp).reshape(1,-1), **barprops)\n",
    "ax2.set_axis_off()\n",
    "ax2.set_title('Prediction with Temporal Model')\n",
    "\n",
    "ax3 = fig.add_axes([0, 0, 2, 0.3])\n",
    "im3 = ax3.imshow(np.array(video_labels).reshape(1,-1), **barprops)\n",
    "ax3.set_axis_off()\n",
    "ax3.set_title('Ground Truth')\n",
    "\n",
    "cbar_ax = fig.add_axes([2.1, 0.25, 0.05, 0.7])\n",
    "cbar = fig.colorbar(im1, cax=cbar_ax)\n",
    "cbar.set_ticks([x + 0.5 for x in range(7)])\n",
    "cbar.set_ticklabels(model.phase_names)\n",
    "cbar.ax.invert_yaxis()"
   ]
  },
  {
   "cell_type": "code",
   "execution_count": 194,
   "metadata": {},
   "outputs": [],
   "source": [
    "torch.save(temporal_model.state_dict(), 'tempora_model_state_dict.pt')"
   ]
  },
  {
   "cell_type": "code",
   "execution_count": null,
   "metadata": {},
   "outputs": [],
   "source": []
  }
 ],
 "metadata": {
  "accelerator": "GPU",
  "colab": {
   "collapsed_sections": [
    "PD7MIt9sY3VD"
   ],
   "name": "workflow_exercise.ipynb",
   "provenance": [],
   "toc_visible": true
  },
  "interpreter": {
   "hash": "8939ef2a51d490bca7e91ec38d59beed54b6b64a52526ae9dee62e8212aad3c4"
  },
  "kernelspec": {
   "display_name": "Python 3 (ipykernel)",
   "language": "python",
   "name": "python3"
  },
  "language_info": {
   "codemirror_mode": {
    "name": "ipython",
    "version": 3
   },
   "file_extension": ".py",
   "mimetype": "text/x-python",
   "name": "python",
   "nbconvert_exporter": "python",
   "pygments_lexer": "ipython3",
   "version": "3.7.11"
  }
 },
 "nbformat": 4,
 "nbformat_minor": 4
}
